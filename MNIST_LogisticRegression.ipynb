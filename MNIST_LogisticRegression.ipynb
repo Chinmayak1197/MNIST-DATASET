{
  "nbformat": 4,
  "nbformat_minor": 0,
  "metadata": {
    "colab": {
      "name": "MNIST-LogisticRegression.ipynb",
      "provenance": [],
      "collapsed_sections": [],
      "authorship_tag": "ABX9TyPjY9JvpZYI7Fdjn832PaXq",
      "include_colab_link": true
    },
    "kernelspec": {
      "name": "python3",
      "display_name": "Python 3"
    },
    "language_info": {
      "name": "python"
    },
    "widgets": {
      "application/vnd.jupyter.widget-state+json": {
        "44cc23822d5e4f74bafe7df62ddcde3f": {
          "model_module": "@jupyter-widgets/controls",
          "model_name": "HBoxModel",
          "model_module_version": "1.5.0",
          "state": {
            "_dom_classes": [],
            "_model_module": "@jupyter-widgets/controls",
            "_model_module_version": "1.5.0",
            "_model_name": "HBoxModel",
            "_view_count": null,
            "_view_module": "@jupyter-widgets/controls",
            "_view_module_version": "1.5.0",
            "_view_name": "HBoxView",
            "box_style": "",
            "children": [
              "IPY_MODEL_03fcbf3ed75842e0b3e6f1911fc6e68e",
              "IPY_MODEL_60f8532e62bf416ca7b6803926808e6d",
              "IPY_MODEL_c6541f4da1a74b1e8a1ae5ee9e9c85e9"
            ],
            "layout": "IPY_MODEL_acf406072ff3462ba65a90470ab35417"
          }
        },
        "03fcbf3ed75842e0b3e6f1911fc6e68e": {
          "model_module": "@jupyter-widgets/controls",
          "model_name": "HTMLModel",
          "model_module_version": "1.5.0",
          "state": {
            "_dom_classes": [],
            "_model_module": "@jupyter-widgets/controls",
            "_model_module_version": "1.5.0",
            "_model_name": "HTMLModel",
            "_view_count": null,
            "_view_module": "@jupyter-widgets/controls",
            "_view_module_version": "1.5.0",
            "_view_name": "HTMLView",
            "description": "",
            "description_tooltip": null,
            "layout": "IPY_MODEL_2d810a58229f47e4b73af9151f493db0",
            "placeholder": "​",
            "style": "IPY_MODEL_78f777458c6b4816957437f8a7445045",
            "value": ""
          }
        },
        "60f8532e62bf416ca7b6803926808e6d": {
          "model_module": "@jupyter-widgets/controls",
          "model_name": "FloatProgressModel",
          "model_module_version": "1.5.0",
          "state": {
            "_dom_classes": [],
            "_model_module": "@jupyter-widgets/controls",
            "_model_module_version": "1.5.0",
            "_model_name": "FloatProgressModel",
            "_view_count": null,
            "_view_module": "@jupyter-widgets/controls",
            "_view_module_version": "1.5.0",
            "_view_name": "ProgressView",
            "bar_style": "success",
            "description": "",
            "description_tooltip": null,
            "layout": "IPY_MODEL_7e19423efe6447a6955e7ad9a23171eb",
            "max": 9912422,
            "min": 0,
            "orientation": "horizontal",
            "style": "IPY_MODEL_ece80e2d42ac4db484359b047b1a1482",
            "value": 9912422
          }
        },
        "c6541f4da1a74b1e8a1ae5ee9e9c85e9": {
          "model_module": "@jupyter-widgets/controls",
          "model_name": "HTMLModel",
          "model_module_version": "1.5.0",
          "state": {
            "_dom_classes": [],
            "_model_module": "@jupyter-widgets/controls",
            "_model_module_version": "1.5.0",
            "_model_name": "HTMLModel",
            "_view_count": null,
            "_view_module": "@jupyter-widgets/controls",
            "_view_module_version": "1.5.0",
            "_view_name": "HTMLView",
            "description": "",
            "description_tooltip": null,
            "layout": "IPY_MODEL_90ff853ebee045ff8c197a5edc3512f7",
            "placeholder": "​",
            "style": "IPY_MODEL_fdb9a0ae91da4ce0ad560041ca624cb3",
            "value": " 9913344/? [00:00&lt;00:00, 11994204.50it/s]"
          }
        },
        "acf406072ff3462ba65a90470ab35417": {
          "model_module": "@jupyter-widgets/base",
          "model_name": "LayoutModel",
          "model_module_version": "1.2.0",
          "state": {
            "_model_module": "@jupyter-widgets/base",
            "_model_module_version": "1.2.0",
            "_model_name": "LayoutModel",
            "_view_count": null,
            "_view_module": "@jupyter-widgets/base",
            "_view_module_version": "1.2.0",
            "_view_name": "LayoutView",
            "align_content": null,
            "align_items": null,
            "align_self": null,
            "border": null,
            "bottom": null,
            "display": null,
            "flex": null,
            "flex_flow": null,
            "grid_area": null,
            "grid_auto_columns": null,
            "grid_auto_flow": null,
            "grid_auto_rows": null,
            "grid_column": null,
            "grid_gap": null,
            "grid_row": null,
            "grid_template_areas": null,
            "grid_template_columns": null,
            "grid_template_rows": null,
            "height": null,
            "justify_content": null,
            "justify_items": null,
            "left": null,
            "margin": null,
            "max_height": null,
            "max_width": null,
            "min_height": null,
            "min_width": null,
            "object_fit": null,
            "object_position": null,
            "order": null,
            "overflow": null,
            "overflow_x": null,
            "overflow_y": null,
            "padding": null,
            "right": null,
            "top": null,
            "visibility": null,
            "width": null
          }
        },
        "2d810a58229f47e4b73af9151f493db0": {
          "model_module": "@jupyter-widgets/base",
          "model_name": "LayoutModel",
          "model_module_version": "1.2.0",
          "state": {
            "_model_module": "@jupyter-widgets/base",
            "_model_module_version": "1.2.0",
            "_model_name": "LayoutModel",
            "_view_count": null,
            "_view_module": "@jupyter-widgets/base",
            "_view_module_version": "1.2.0",
            "_view_name": "LayoutView",
            "align_content": null,
            "align_items": null,
            "align_self": null,
            "border": null,
            "bottom": null,
            "display": null,
            "flex": null,
            "flex_flow": null,
            "grid_area": null,
            "grid_auto_columns": null,
            "grid_auto_flow": null,
            "grid_auto_rows": null,
            "grid_column": null,
            "grid_gap": null,
            "grid_row": null,
            "grid_template_areas": null,
            "grid_template_columns": null,
            "grid_template_rows": null,
            "height": null,
            "justify_content": null,
            "justify_items": null,
            "left": null,
            "margin": null,
            "max_height": null,
            "max_width": null,
            "min_height": null,
            "min_width": null,
            "object_fit": null,
            "object_position": null,
            "order": null,
            "overflow": null,
            "overflow_x": null,
            "overflow_y": null,
            "padding": null,
            "right": null,
            "top": null,
            "visibility": null,
            "width": null
          }
        },
        "78f777458c6b4816957437f8a7445045": {
          "model_module": "@jupyter-widgets/controls",
          "model_name": "DescriptionStyleModel",
          "model_module_version": "1.5.0",
          "state": {
            "_model_module": "@jupyter-widgets/controls",
            "_model_module_version": "1.5.0",
            "_model_name": "DescriptionStyleModel",
            "_view_count": null,
            "_view_module": "@jupyter-widgets/base",
            "_view_module_version": "1.2.0",
            "_view_name": "StyleView",
            "description_width": ""
          }
        },
        "7e19423efe6447a6955e7ad9a23171eb": {
          "model_module": "@jupyter-widgets/base",
          "model_name": "LayoutModel",
          "model_module_version": "1.2.0",
          "state": {
            "_model_module": "@jupyter-widgets/base",
            "_model_module_version": "1.2.0",
            "_model_name": "LayoutModel",
            "_view_count": null,
            "_view_module": "@jupyter-widgets/base",
            "_view_module_version": "1.2.0",
            "_view_name": "LayoutView",
            "align_content": null,
            "align_items": null,
            "align_self": null,
            "border": null,
            "bottom": null,
            "display": null,
            "flex": null,
            "flex_flow": null,
            "grid_area": null,
            "grid_auto_columns": null,
            "grid_auto_flow": null,
            "grid_auto_rows": null,
            "grid_column": null,
            "grid_gap": null,
            "grid_row": null,
            "grid_template_areas": null,
            "grid_template_columns": null,
            "grid_template_rows": null,
            "height": null,
            "justify_content": null,
            "justify_items": null,
            "left": null,
            "margin": null,
            "max_height": null,
            "max_width": null,
            "min_height": null,
            "min_width": null,
            "object_fit": null,
            "object_position": null,
            "order": null,
            "overflow": null,
            "overflow_x": null,
            "overflow_y": null,
            "padding": null,
            "right": null,
            "top": null,
            "visibility": null,
            "width": null
          }
        },
        "ece80e2d42ac4db484359b047b1a1482": {
          "model_module": "@jupyter-widgets/controls",
          "model_name": "ProgressStyleModel",
          "model_module_version": "1.5.0",
          "state": {
            "_model_module": "@jupyter-widgets/controls",
            "_model_module_version": "1.5.0",
            "_model_name": "ProgressStyleModel",
            "_view_count": null,
            "_view_module": "@jupyter-widgets/base",
            "_view_module_version": "1.2.0",
            "_view_name": "StyleView",
            "bar_color": null,
            "description_width": ""
          }
        },
        "90ff853ebee045ff8c197a5edc3512f7": {
          "model_module": "@jupyter-widgets/base",
          "model_name": "LayoutModel",
          "model_module_version": "1.2.0",
          "state": {
            "_model_module": "@jupyter-widgets/base",
            "_model_module_version": "1.2.0",
            "_model_name": "LayoutModel",
            "_view_count": null,
            "_view_module": "@jupyter-widgets/base",
            "_view_module_version": "1.2.0",
            "_view_name": "LayoutView",
            "align_content": null,
            "align_items": null,
            "align_self": null,
            "border": null,
            "bottom": null,
            "display": null,
            "flex": null,
            "flex_flow": null,
            "grid_area": null,
            "grid_auto_columns": null,
            "grid_auto_flow": null,
            "grid_auto_rows": null,
            "grid_column": null,
            "grid_gap": null,
            "grid_row": null,
            "grid_template_areas": null,
            "grid_template_columns": null,
            "grid_template_rows": null,
            "height": null,
            "justify_content": null,
            "justify_items": null,
            "left": null,
            "margin": null,
            "max_height": null,
            "max_width": null,
            "min_height": null,
            "min_width": null,
            "object_fit": null,
            "object_position": null,
            "order": null,
            "overflow": null,
            "overflow_x": null,
            "overflow_y": null,
            "padding": null,
            "right": null,
            "top": null,
            "visibility": null,
            "width": null
          }
        },
        "fdb9a0ae91da4ce0ad560041ca624cb3": {
          "model_module": "@jupyter-widgets/controls",
          "model_name": "DescriptionStyleModel",
          "model_module_version": "1.5.0",
          "state": {
            "_model_module": "@jupyter-widgets/controls",
            "_model_module_version": "1.5.0",
            "_model_name": "DescriptionStyleModel",
            "_view_count": null,
            "_view_module": "@jupyter-widgets/base",
            "_view_module_version": "1.2.0",
            "_view_name": "StyleView",
            "description_width": ""
          }
        },
        "7dc56203fef54e648f09aedb4a1024aa": {
          "model_module": "@jupyter-widgets/controls",
          "model_name": "HBoxModel",
          "model_module_version": "1.5.0",
          "state": {
            "_dom_classes": [],
            "_model_module": "@jupyter-widgets/controls",
            "_model_module_version": "1.5.0",
            "_model_name": "HBoxModel",
            "_view_count": null,
            "_view_module": "@jupyter-widgets/controls",
            "_view_module_version": "1.5.0",
            "_view_name": "HBoxView",
            "box_style": "",
            "children": [
              "IPY_MODEL_0e3a09cd544447609c6b8fd24681b6d4",
              "IPY_MODEL_f9841bb50cab432db1c3d8ae03d0c78f",
              "IPY_MODEL_f168f57b048347f896636e6248111865"
            ],
            "layout": "IPY_MODEL_0f3715cda43d4c738e9d3c00d44f9ae9"
          }
        },
        "0e3a09cd544447609c6b8fd24681b6d4": {
          "model_module": "@jupyter-widgets/controls",
          "model_name": "HTMLModel",
          "model_module_version": "1.5.0",
          "state": {
            "_dom_classes": [],
            "_model_module": "@jupyter-widgets/controls",
            "_model_module_version": "1.5.0",
            "_model_name": "HTMLModel",
            "_view_count": null,
            "_view_module": "@jupyter-widgets/controls",
            "_view_module_version": "1.5.0",
            "_view_name": "HTMLView",
            "description": "",
            "description_tooltip": null,
            "layout": "IPY_MODEL_611b4e514feb4db58aaf986069eae527",
            "placeholder": "​",
            "style": "IPY_MODEL_1ae11ad09cc247b3917dda6ef58352d5",
            "value": ""
          }
        },
        "f9841bb50cab432db1c3d8ae03d0c78f": {
          "model_module": "@jupyter-widgets/controls",
          "model_name": "FloatProgressModel",
          "model_module_version": "1.5.0",
          "state": {
            "_dom_classes": [],
            "_model_module": "@jupyter-widgets/controls",
            "_model_module_version": "1.5.0",
            "_model_name": "FloatProgressModel",
            "_view_count": null,
            "_view_module": "@jupyter-widgets/controls",
            "_view_module_version": "1.5.0",
            "_view_name": "ProgressView",
            "bar_style": "success",
            "description": "",
            "description_tooltip": null,
            "layout": "IPY_MODEL_c507d93de5e6437a8f10ec70f707b3ae",
            "max": 28881,
            "min": 0,
            "orientation": "horizontal",
            "style": "IPY_MODEL_8c091ff122144287ae78fd5a105e4c93",
            "value": 28881
          }
        },
        "f168f57b048347f896636e6248111865": {
          "model_module": "@jupyter-widgets/controls",
          "model_name": "HTMLModel",
          "model_module_version": "1.5.0",
          "state": {
            "_dom_classes": [],
            "_model_module": "@jupyter-widgets/controls",
            "_model_module_version": "1.5.0",
            "_model_name": "HTMLModel",
            "_view_count": null,
            "_view_module": "@jupyter-widgets/controls",
            "_view_module_version": "1.5.0",
            "_view_name": "HTMLView",
            "description": "",
            "description_tooltip": null,
            "layout": "IPY_MODEL_cde27dc4354e41ef803da48b53241818",
            "placeholder": "​",
            "style": "IPY_MODEL_40d77de20e06451191c555a15bbec7e4",
            "value": " 29696/? [00:00&lt;00:00, 508726.50it/s]"
          }
        },
        "0f3715cda43d4c738e9d3c00d44f9ae9": {
          "model_module": "@jupyter-widgets/base",
          "model_name": "LayoutModel",
          "model_module_version": "1.2.0",
          "state": {
            "_model_module": "@jupyter-widgets/base",
            "_model_module_version": "1.2.0",
            "_model_name": "LayoutModel",
            "_view_count": null,
            "_view_module": "@jupyter-widgets/base",
            "_view_module_version": "1.2.0",
            "_view_name": "LayoutView",
            "align_content": null,
            "align_items": null,
            "align_self": null,
            "border": null,
            "bottom": null,
            "display": null,
            "flex": null,
            "flex_flow": null,
            "grid_area": null,
            "grid_auto_columns": null,
            "grid_auto_flow": null,
            "grid_auto_rows": null,
            "grid_column": null,
            "grid_gap": null,
            "grid_row": null,
            "grid_template_areas": null,
            "grid_template_columns": null,
            "grid_template_rows": null,
            "height": null,
            "justify_content": null,
            "justify_items": null,
            "left": null,
            "margin": null,
            "max_height": null,
            "max_width": null,
            "min_height": null,
            "min_width": null,
            "object_fit": null,
            "object_position": null,
            "order": null,
            "overflow": null,
            "overflow_x": null,
            "overflow_y": null,
            "padding": null,
            "right": null,
            "top": null,
            "visibility": null,
            "width": null
          }
        },
        "611b4e514feb4db58aaf986069eae527": {
          "model_module": "@jupyter-widgets/base",
          "model_name": "LayoutModel",
          "model_module_version": "1.2.0",
          "state": {
            "_model_module": "@jupyter-widgets/base",
            "_model_module_version": "1.2.0",
            "_model_name": "LayoutModel",
            "_view_count": null,
            "_view_module": "@jupyter-widgets/base",
            "_view_module_version": "1.2.0",
            "_view_name": "LayoutView",
            "align_content": null,
            "align_items": null,
            "align_self": null,
            "border": null,
            "bottom": null,
            "display": null,
            "flex": null,
            "flex_flow": null,
            "grid_area": null,
            "grid_auto_columns": null,
            "grid_auto_flow": null,
            "grid_auto_rows": null,
            "grid_column": null,
            "grid_gap": null,
            "grid_row": null,
            "grid_template_areas": null,
            "grid_template_columns": null,
            "grid_template_rows": null,
            "height": null,
            "justify_content": null,
            "justify_items": null,
            "left": null,
            "margin": null,
            "max_height": null,
            "max_width": null,
            "min_height": null,
            "min_width": null,
            "object_fit": null,
            "object_position": null,
            "order": null,
            "overflow": null,
            "overflow_x": null,
            "overflow_y": null,
            "padding": null,
            "right": null,
            "top": null,
            "visibility": null,
            "width": null
          }
        },
        "1ae11ad09cc247b3917dda6ef58352d5": {
          "model_module": "@jupyter-widgets/controls",
          "model_name": "DescriptionStyleModel",
          "model_module_version": "1.5.0",
          "state": {
            "_model_module": "@jupyter-widgets/controls",
            "_model_module_version": "1.5.0",
            "_model_name": "DescriptionStyleModel",
            "_view_count": null,
            "_view_module": "@jupyter-widgets/base",
            "_view_module_version": "1.2.0",
            "_view_name": "StyleView",
            "description_width": ""
          }
        },
        "c507d93de5e6437a8f10ec70f707b3ae": {
          "model_module": "@jupyter-widgets/base",
          "model_name": "LayoutModel",
          "model_module_version": "1.2.0",
          "state": {
            "_model_module": "@jupyter-widgets/base",
            "_model_module_version": "1.2.0",
            "_model_name": "LayoutModel",
            "_view_count": null,
            "_view_module": "@jupyter-widgets/base",
            "_view_module_version": "1.2.0",
            "_view_name": "LayoutView",
            "align_content": null,
            "align_items": null,
            "align_self": null,
            "border": null,
            "bottom": null,
            "display": null,
            "flex": null,
            "flex_flow": null,
            "grid_area": null,
            "grid_auto_columns": null,
            "grid_auto_flow": null,
            "grid_auto_rows": null,
            "grid_column": null,
            "grid_gap": null,
            "grid_row": null,
            "grid_template_areas": null,
            "grid_template_columns": null,
            "grid_template_rows": null,
            "height": null,
            "justify_content": null,
            "justify_items": null,
            "left": null,
            "margin": null,
            "max_height": null,
            "max_width": null,
            "min_height": null,
            "min_width": null,
            "object_fit": null,
            "object_position": null,
            "order": null,
            "overflow": null,
            "overflow_x": null,
            "overflow_y": null,
            "padding": null,
            "right": null,
            "top": null,
            "visibility": null,
            "width": null
          }
        },
        "8c091ff122144287ae78fd5a105e4c93": {
          "model_module": "@jupyter-widgets/controls",
          "model_name": "ProgressStyleModel",
          "model_module_version": "1.5.0",
          "state": {
            "_model_module": "@jupyter-widgets/controls",
            "_model_module_version": "1.5.0",
            "_model_name": "ProgressStyleModel",
            "_view_count": null,
            "_view_module": "@jupyter-widgets/base",
            "_view_module_version": "1.2.0",
            "_view_name": "StyleView",
            "bar_color": null,
            "description_width": ""
          }
        },
        "cde27dc4354e41ef803da48b53241818": {
          "model_module": "@jupyter-widgets/base",
          "model_name": "LayoutModel",
          "model_module_version": "1.2.0",
          "state": {
            "_model_module": "@jupyter-widgets/base",
            "_model_module_version": "1.2.0",
            "_model_name": "LayoutModel",
            "_view_count": null,
            "_view_module": "@jupyter-widgets/base",
            "_view_module_version": "1.2.0",
            "_view_name": "LayoutView",
            "align_content": null,
            "align_items": null,
            "align_self": null,
            "border": null,
            "bottom": null,
            "display": null,
            "flex": null,
            "flex_flow": null,
            "grid_area": null,
            "grid_auto_columns": null,
            "grid_auto_flow": null,
            "grid_auto_rows": null,
            "grid_column": null,
            "grid_gap": null,
            "grid_row": null,
            "grid_template_areas": null,
            "grid_template_columns": null,
            "grid_template_rows": null,
            "height": null,
            "justify_content": null,
            "justify_items": null,
            "left": null,
            "margin": null,
            "max_height": null,
            "max_width": null,
            "min_height": null,
            "min_width": null,
            "object_fit": null,
            "object_position": null,
            "order": null,
            "overflow": null,
            "overflow_x": null,
            "overflow_y": null,
            "padding": null,
            "right": null,
            "top": null,
            "visibility": null,
            "width": null
          }
        },
        "40d77de20e06451191c555a15bbec7e4": {
          "model_module": "@jupyter-widgets/controls",
          "model_name": "DescriptionStyleModel",
          "model_module_version": "1.5.0",
          "state": {
            "_model_module": "@jupyter-widgets/controls",
            "_model_module_version": "1.5.0",
            "_model_name": "DescriptionStyleModel",
            "_view_count": null,
            "_view_module": "@jupyter-widgets/base",
            "_view_module_version": "1.2.0",
            "_view_name": "StyleView",
            "description_width": ""
          }
        },
        "4aa6ba4e643c4c4792706efe39902248": {
          "model_module": "@jupyter-widgets/controls",
          "model_name": "HBoxModel",
          "model_module_version": "1.5.0",
          "state": {
            "_dom_classes": [],
            "_model_module": "@jupyter-widgets/controls",
            "_model_module_version": "1.5.0",
            "_model_name": "HBoxModel",
            "_view_count": null,
            "_view_module": "@jupyter-widgets/controls",
            "_view_module_version": "1.5.0",
            "_view_name": "HBoxView",
            "box_style": "",
            "children": [
              "IPY_MODEL_630774a965e342258f86cbe488c13fc4",
              "IPY_MODEL_b69afe30ce1e477dadf8f3dc7974588a",
              "IPY_MODEL_42148fd56665443c95dbd65bb04910fa"
            ],
            "layout": "IPY_MODEL_fb6a6963228a470cadb464f4190d2f69"
          }
        },
        "630774a965e342258f86cbe488c13fc4": {
          "model_module": "@jupyter-widgets/controls",
          "model_name": "HTMLModel",
          "model_module_version": "1.5.0",
          "state": {
            "_dom_classes": [],
            "_model_module": "@jupyter-widgets/controls",
            "_model_module_version": "1.5.0",
            "_model_name": "HTMLModel",
            "_view_count": null,
            "_view_module": "@jupyter-widgets/controls",
            "_view_module_version": "1.5.0",
            "_view_name": "HTMLView",
            "description": "",
            "description_tooltip": null,
            "layout": "IPY_MODEL_39f13b4e9f824f4aa69606943c7f1c5b",
            "placeholder": "​",
            "style": "IPY_MODEL_2188e2c28b4c43189b27294a2e811d7e",
            "value": ""
          }
        },
        "b69afe30ce1e477dadf8f3dc7974588a": {
          "model_module": "@jupyter-widgets/controls",
          "model_name": "FloatProgressModel",
          "model_module_version": "1.5.0",
          "state": {
            "_dom_classes": [],
            "_model_module": "@jupyter-widgets/controls",
            "_model_module_version": "1.5.0",
            "_model_name": "FloatProgressModel",
            "_view_count": null,
            "_view_module": "@jupyter-widgets/controls",
            "_view_module_version": "1.5.0",
            "_view_name": "ProgressView",
            "bar_style": "success",
            "description": "",
            "description_tooltip": null,
            "layout": "IPY_MODEL_454ee476fb744780b18471eb06e06fab",
            "max": 1648877,
            "min": 0,
            "orientation": "horizontal",
            "style": "IPY_MODEL_85e1816590784eea8862a7113d791ea1",
            "value": 1648877
          }
        },
        "42148fd56665443c95dbd65bb04910fa": {
          "model_module": "@jupyter-widgets/controls",
          "model_name": "HTMLModel",
          "model_module_version": "1.5.0",
          "state": {
            "_dom_classes": [],
            "_model_module": "@jupyter-widgets/controls",
            "_model_module_version": "1.5.0",
            "_model_name": "HTMLModel",
            "_view_count": null,
            "_view_module": "@jupyter-widgets/controls",
            "_view_module_version": "1.5.0",
            "_view_name": "HTMLView",
            "description": "",
            "description_tooltip": null,
            "layout": "IPY_MODEL_27ad34e14f2c4caa8dbab0fce8de6e6e",
            "placeholder": "​",
            "style": "IPY_MODEL_4ac22fb7175a42759e33cc0975c56dca",
            "value": " 1649664/? [00:00&lt;00:00, 4976063.42it/s]"
          }
        },
        "fb6a6963228a470cadb464f4190d2f69": {
          "model_module": "@jupyter-widgets/base",
          "model_name": "LayoutModel",
          "model_module_version": "1.2.0",
          "state": {
            "_model_module": "@jupyter-widgets/base",
            "_model_module_version": "1.2.0",
            "_model_name": "LayoutModel",
            "_view_count": null,
            "_view_module": "@jupyter-widgets/base",
            "_view_module_version": "1.2.0",
            "_view_name": "LayoutView",
            "align_content": null,
            "align_items": null,
            "align_self": null,
            "border": null,
            "bottom": null,
            "display": null,
            "flex": null,
            "flex_flow": null,
            "grid_area": null,
            "grid_auto_columns": null,
            "grid_auto_flow": null,
            "grid_auto_rows": null,
            "grid_column": null,
            "grid_gap": null,
            "grid_row": null,
            "grid_template_areas": null,
            "grid_template_columns": null,
            "grid_template_rows": null,
            "height": null,
            "justify_content": null,
            "justify_items": null,
            "left": null,
            "margin": null,
            "max_height": null,
            "max_width": null,
            "min_height": null,
            "min_width": null,
            "object_fit": null,
            "object_position": null,
            "order": null,
            "overflow": null,
            "overflow_x": null,
            "overflow_y": null,
            "padding": null,
            "right": null,
            "top": null,
            "visibility": null,
            "width": null
          }
        },
        "39f13b4e9f824f4aa69606943c7f1c5b": {
          "model_module": "@jupyter-widgets/base",
          "model_name": "LayoutModel",
          "model_module_version": "1.2.0",
          "state": {
            "_model_module": "@jupyter-widgets/base",
            "_model_module_version": "1.2.0",
            "_model_name": "LayoutModel",
            "_view_count": null,
            "_view_module": "@jupyter-widgets/base",
            "_view_module_version": "1.2.0",
            "_view_name": "LayoutView",
            "align_content": null,
            "align_items": null,
            "align_self": null,
            "border": null,
            "bottom": null,
            "display": null,
            "flex": null,
            "flex_flow": null,
            "grid_area": null,
            "grid_auto_columns": null,
            "grid_auto_flow": null,
            "grid_auto_rows": null,
            "grid_column": null,
            "grid_gap": null,
            "grid_row": null,
            "grid_template_areas": null,
            "grid_template_columns": null,
            "grid_template_rows": null,
            "height": null,
            "justify_content": null,
            "justify_items": null,
            "left": null,
            "margin": null,
            "max_height": null,
            "max_width": null,
            "min_height": null,
            "min_width": null,
            "object_fit": null,
            "object_position": null,
            "order": null,
            "overflow": null,
            "overflow_x": null,
            "overflow_y": null,
            "padding": null,
            "right": null,
            "top": null,
            "visibility": null,
            "width": null
          }
        },
        "2188e2c28b4c43189b27294a2e811d7e": {
          "model_module": "@jupyter-widgets/controls",
          "model_name": "DescriptionStyleModel",
          "model_module_version": "1.5.0",
          "state": {
            "_model_module": "@jupyter-widgets/controls",
            "_model_module_version": "1.5.0",
            "_model_name": "DescriptionStyleModel",
            "_view_count": null,
            "_view_module": "@jupyter-widgets/base",
            "_view_module_version": "1.2.0",
            "_view_name": "StyleView",
            "description_width": ""
          }
        },
        "454ee476fb744780b18471eb06e06fab": {
          "model_module": "@jupyter-widgets/base",
          "model_name": "LayoutModel",
          "model_module_version": "1.2.0",
          "state": {
            "_model_module": "@jupyter-widgets/base",
            "_model_module_version": "1.2.0",
            "_model_name": "LayoutModel",
            "_view_count": null,
            "_view_module": "@jupyter-widgets/base",
            "_view_module_version": "1.2.0",
            "_view_name": "LayoutView",
            "align_content": null,
            "align_items": null,
            "align_self": null,
            "border": null,
            "bottom": null,
            "display": null,
            "flex": null,
            "flex_flow": null,
            "grid_area": null,
            "grid_auto_columns": null,
            "grid_auto_flow": null,
            "grid_auto_rows": null,
            "grid_column": null,
            "grid_gap": null,
            "grid_row": null,
            "grid_template_areas": null,
            "grid_template_columns": null,
            "grid_template_rows": null,
            "height": null,
            "justify_content": null,
            "justify_items": null,
            "left": null,
            "margin": null,
            "max_height": null,
            "max_width": null,
            "min_height": null,
            "min_width": null,
            "object_fit": null,
            "object_position": null,
            "order": null,
            "overflow": null,
            "overflow_x": null,
            "overflow_y": null,
            "padding": null,
            "right": null,
            "top": null,
            "visibility": null,
            "width": null
          }
        },
        "85e1816590784eea8862a7113d791ea1": {
          "model_module": "@jupyter-widgets/controls",
          "model_name": "ProgressStyleModel",
          "model_module_version": "1.5.0",
          "state": {
            "_model_module": "@jupyter-widgets/controls",
            "_model_module_version": "1.5.0",
            "_model_name": "ProgressStyleModel",
            "_view_count": null,
            "_view_module": "@jupyter-widgets/base",
            "_view_module_version": "1.2.0",
            "_view_name": "StyleView",
            "bar_color": null,
            "description_width": ""
          }
        },
        "27ad34e14f2c4caa8dbab0fce8de6e6e": {
          "model_module": "@jupyter-widgets/base",
          "model_name": "LayoutModel",
          "model_module_version": "1.2.0",
          "state": {
            "_model_module": "@jupyter-widgets/base",
            "_model_module_version": "1.2.0",
            "_model_name": "LayoutModel",
            "_view_count": null,
            "_view_module": "@jupyter-widgets/base",
            "_view_module_version": "1.2.0",
            "_view_name": "LayoutView",
            "align_content": null,
            "align_items": null,
            "align_self": null,
            "border": null,
            "bottom": null,
            "display": null,
            "flex": null,
            "flex_flow": null,
            "grid_area": null,
            "grid_auto_columns": null,
            "grid_auto_flow": null,
            "grid_auto_rows": null,
            "grid_column": null,
            "grid_gap": null,
            "grid_row": null,
            "grid_template_areas": null,
            "grid_template_columns": null,
            "grid_template_rows": null,
            "height": null,
            "justify_content": null,
            "justify_items": null,
            "left": null,
            "margin": null,
            "max_height": null,
            "max_width": null,
            "min_height": null,
            "min_width": null,
            "object_fit": null,
            "object_position": null,
            "order": null,
            "overflow": null,
            "overflow_x": null,
            "overflow_y": null,
            "padding": null,
            "right": null,
            "top": null,
            "visibility": null,
            "width": null
          }
        },
        "4ac22fb7175a42759e33cc0975c56dca": {
          "model_module": "@jupyter-widgets/controls",
          "model_name": "DescriptionStyleModel",
          "model_module_version": "1.5.0",
          "state": {
            "_model_module": "@jupyter-widgets/controls",
            "_model_module_version": "1.5.0",
            "_model_name": "DescriptionStyleModel",
            "_view_count": null,
            "_view_module": "@jupyter-widgets/base",
            "_view_module_version": "1.2.0",
            "_view_name": "StyleView",
            "description_width": ""
          }
        },
        "79d68021a94049f7a225b8cb5c1e2490": {
          "model_module": "@jupyter-widgets/controls",
          "model_name": "HBoxModel",
          "model_module_version": "1.5.0",
          "state": {
            "_dom_classes": [],
            "_model_module": "@jupyter-widgets/controls",
            "_model_module_version": "1.5.0",
            "_model_name": "HBoxModel",
            "_view_count": null,
            "_view_module": "@jupyter-widgets/controls",
            "_view_module_version": "1.5.0",
            "_view_name": "HBoxView",
            "box_style": "",
            "children": [
              "IPY_MODEL_fe208d1e0ab741cdb8f200ec3848e9a4",
              "IPY_MODEL_13795cea98334ae0af6690f572df5b7d",
              "IPY_MODEL_bb680c7581e743c3b0af396c3ef4d467"
            ],
            "layout": "IPY_MODEL_da694206e2564d3b861c37d2ec6e821a"
          }
        },
        "fe208d1e0ab741cdb8f200ec3848e9a4": {
          "model_module": "@jupyter-widgets/controls",
          "model_name": "HTMLModel",
          "model_module_version": "1.5.0",
          "state": {
            "_dom_classes": [],
            "_model_module": "@jupyter-widgets/controls",
            "_model_module_version": "1.5.0",
            "_model_name": "HTMLModel",
            "_view_count": null,
            "_view_module": "@jupyter-widgets/controls",
            "_view_module_version": "1.5.0",
            "_view_name": "HTMLView",
            "description": "",
            "description_tooltip": null,
            "layout": "IPY_MODEL_f1add1c0315e45978d556b0f688fb1fc",
            "placeholder": "​",
            "style": "IPY_MODEL_978395da0cf14e0e921241e72a752b7d",
            "value": ""
          }
        },
        "13795cea98334ae0af6690f572df5b7d": {
          "model_module": "@jupyter-widgets/controls",
          "model_name": "FloatProgressModel",
          "model_module_version": "1.5.0",
          "state": {
            "_dom_classes": [],
            "_model_module": "@jupyter-widgets/controls",
            "_model_module_version": "1.5.0",
            "_model_name": "FloatProgressModel",
            "_view_count": null,
            "_view_module": "@jupyter-widgets/controls",
            "_view_module_version": "1.5.0",
            "_view_name": "ProgressView",
            "bar_style": "success",
            "description": "",
            "description_tooltip": null,
            "layout": "IPY_MODEL_198a711c26a2499db40a693184c129b3",
            "max": 4542,
            "min": 0,
            "orientation": "horizontal",
            "style": "IPY_MODEL_0f9a6da353424f829cec611fdd025ebd",
            "value": 4542
          }
        },
        "bb680c7581e743c3b0af396c3ef4d467": {
          "model_module": "@jupyter-widgets/controls",
          "model_name": "HTMLModel",
          "model_module_version": "1.5.0",
          "state": {
            "_dom_classes": [],
            "_model_module": "@jupyter-widgets/controls",
            "_model_module_version": "1.5.0",
            "_model_name": "HTMLModel",
            "_view_count": null,
            "_view_module": "@jupyter-widgets/controls",
            "_view_module_version": "1.5.0",
            "_view_name": "HTMLView",
            "description": "",
            "description_tooltip": null,
            "layout": "IPY_MODEL_ee2dfd6f9a824f879031864bee37e882",
            "placeholder": "​",
            "style": "IPY_MODEL_a9eed39d05e940f9aa2b886c30be4894",
            "value": " 5120/? [00:00&lt;00:00, 82886.90it/s]"
          }
        },
        "da694206e2564d3b861c37d2ec6e821a": {
          "model_module": "@jupyter-widgets/base",
          "model_name": "LayoutModel",
          "model_module_version": "1.2.0",
          "state": {
            "_model_module": "@jupyter-widgets/base",
            "_model_module_version": "1.2.0",
            "_model_name": "LayoutModel",
            "_view_count": null,
            "_view_module": "@jupyter-widgets/base",
            "_view_module_version": "1.2.0",
            "_view_name": "LayoutView",
            "align_content": null,
            "align_items": null,
            "align_self": null,
            "border": null,
            "bottom": null,
            "display": null,
            "flex": null,
            "flex_flow": null,
            "grid_area": null,
            "grid_auto_columns": null,
            "grid_auto_flow": null,
            "grid_auto_rows": null,
            "grid_column": null,
            "grid_gap": null,
            "grid_row": null,
            "grid_template_areas": null,
            "grid_template_columns": null,
            "grid_template_rows": null,
            "height": null,
            "justify_content": null,
            "justify_items": null,
            "left": null,
            "margin": null,
            "max_height": null,
            "max_width": null,
            "min_height": null,
            "min_width": null,
            "object_fit": null,
            "object_position": null,
            "order": null,
            "overflow": null,
            "overflow_x": null,
            "overflow_y": null,
            "padding": null,
            "right": null,
            "top": null,
            "visibility": null,
            "width": null
          }
        },
        "f1add1c0315e45978d556b0f688fb1fc": {
          "model_module": "@jupyter-widgets/base",
          "model_name": "LayoutModel",
          "model_module_version": "1.2.0",
          "state": {
            "_model_module": "@jupyter-widgets/base",
            "_model_module_version": "1.2.0",
            "_model_name": "LayoutModel",
            "_view_count": null,
            "_view_module": "@jupyter-widgets/base",
            "_view_module_version": "1.2.0",
            "_view_name": "LayoutView",
            "align_content": null,
            "align_items": null,
            "align_self": null,
            "border": null,
            "bottom": null,
            "display": null,
            "flex": null,
            "flex_flow": null,
            "grid_area": null,
            "grid_auto_columns": null,
            "grid_auto_flow": null,
            "grid_auto_rows": null,
            "grid_column": null,
            "grid_gap": null,
            "grid_row": null,
            "grid_template_areas": null,
            "grid_template_columns": null,
            "grid_template_rows": null,
            "height": null,
            "justify_content": null,
            "justify_items": null,
            "left": null,
            "margin": null,
            "max_height": null,
            "max_width": null,
            "min_height": null,
            "min_width": null,
            "object_fit": null,
            "object_position": null,
            "order": null,
            "overflow": null,
            "overflow_x": null,
            "overflow_y": null,
            "padding": null,
            "right": null,
            "top": null,
            "visibility": null,
            "width": null
          }
        },
        "978395da0cf14e0e921241e72a752b7d": {
          "model_module": "@jupyter-widgets/controls",
          "model_name": "DescriptionStyleModel",
          "model_module_version": "1.5.0",
          "state": {
            "_model_module": "@jupyter-widgets/controls",
            "_model_module_version": "1.5.0",
            "_model_name": "DescriptionStyleModel",
            "_view_count": null,
            "_view_module": "@jupyter-widgets/base",
            "_view_module_version": "1.2.0",
            "_view_name": "StyleView",
            "description_width": ""
          }
        },
        "198a711c26a2499db40a693184c129b3": {
          "model_module": "@jupyter-widgets/base",
          "model_name": "LayoutModel",
          "model_module_version": "1.2.0",
          "state": {
            "_model_module": "@jupyter-widgets/base",
            "_model_module_version": "1.2.0",
            "_model_name": "LayoutModel",
            "_view_count": null,
            "_view_module": "@jupyter-widgets/base",
            "_view_module_version": "1.2.0",
            "_view_name": "LayoutView",
            "align_content": null,
            "align_items": null,
            "align_self": null,
            "border": null,
            "bottom": null,
            "display": null,
            "flex": null,
            "flex_flow": null,
            "grid_area": null,
            "grid_auto_columns": null,
            "grid_auto_flow": null,
            "grid_auto_rows": null,
            "grid_column": null,
            "grid_gap": null,
            "grid_row": null,
            "grid_template_areas": null,
            "grid_template_columns": null,
            "grid_template_rows": null,
            "height": null,
            "justify_content": null,
            "justify_items": null,
            "left": null,
            "margin": null,
            "max_height": null,
            "max_width": null,
            "min_height": null,
            "min_width": null,
            "object_fit": null,
            "object_position": null,
            "order": null,
            "overflow": null,
            "overflow_x": null,
            "overflow_y": null,
            "padding": null,
            "right": null,
            "top": null,
            "visibility": null,
            "width": null
          }
        },
        "0f9a6da353424f829cec611fdd025ebd": {
          "model_module": "@jupyter-widgets/controls",
          "model_name": "ProgressStyleModel",
          "model_module_version": "1.5.0",
          "state": {
            "_model_module": "@jupyter-widgets/controls",
            "_model_module_version": "1.5.0",
            "_model_name": "ProgressStyleModel",
            "_view_count": null,
            "_view_module": "@jupyter-widgets/base",
            "_view_module_version": "1.2.0",
            "_view_name": "StyleView",
            "bar_color": null,
            "description_width": ""
          }
        },
        "ee2dfd6f9a824f879031864bee37e882": {
          "model_module": "@jupyter-widgets/base",
          "model_name": "LayoutModel",
          "model_module_version": "1.2.0",
          "state": {
            "_model_module": "@jupyter-widgets/base",
            "_model_module_version": "1.2.0",
            "_model_name": "LayoutModel",
            "_view_count": null,
            "_view_module": "@jupyter-widgets/base",
            "_view_module_version": "1.2.0",
            "_view_name": "LayoutView",
            "align_content": null,
            "align_items": null,
            "align_self": null,
            "border": null,
            "bottom": null,
            "display": null,
            "flex": null,
            "flex_flow": null,
            "grid_area": null,
            "grid_auto_columns": null,
            "grid_auto_flow": null,
            "grid_auto_rows": null,
            "grid_column": null,
            "grid_gap": null,
            "grid_row": null,
            "grid_template_areas": null,
            "grid_template_columns": null,
            "grid_template_rows": null,
            "height": null,
            "justify_content": null,
            "justify_items": null,
            "left": null,
            "margin": null,
            "max_height": null,
            "max_width": null,
            "min_height": null,
            "min_width": null,
            "object_fit": null,
            "object_position": null,
            "order": null,
            "overflow": null,
            "overflow_x": null,
            "overflow_y": null,
            "padding": null,
            "right": null,
            "top": null,
            "visibility": null,
            "width": null
          }
        },
        "a9eed39d05e940f9aa2b886c30be4894": {
          "model_module": "@jupyter-widgets/controls",
          "model_name": "DescriptionStyleModel",
          "model_module_version": "1.5.0",
          "state": {
            "_model_module": "@jupyter-widgets/controls",
            "_model_module_version": "1.5.0",
            "_model_name": "DescriptionStyleModel",
            "_view_count": null,
            "_view_module": "@jupyter-widgets/base",
            "_view_module_version": "1.2.0",
            "_view_name": "StyleView",
            "description_width": ""
          }
        }
      }
    }
  },
  "cells": [
    {
      "cell_type": "markdown",
      "metadata": {
        "id": "view-in-github",
        "colab_type": "text"
      },
      "source": [
        "<a href=\"https://colab.research.google.com/github/Chinmayak1197/MNIST-DATASET/blob/main/MNIST_LogisticRegression.ipynb\" target=\"_parent\"><img src=\"https://colab.research.google.com/assets/colab-badge.svg\" alt=\"Open In Colab\"/></a>"
      ]
    },
    {
      "cell_type": "code",
      "execution_count": 1,
      "metadata": {
        "id": "wfVE_Ue6VCit",
        "colab": {
          "base_uri": "https://localhost:8080/",
          "height": 440,
          "referenced_widgets": [
            "44cc23822d5e4f74bafe7df62ddcde3f",
            "03fcbf3ed75842e0b3e6f1911fc6e68e",
            "60f8532e62bf416ca7b6803926808e6d",
            "c6541f4da1a74b1e8a1ae5ee9e9c85e9",
            "acf406072ff3462ba65a90470ab35417",
            "2d810a58229f47e4b73af9151f493db0",
            "78f777458c6b4816957437f8a7445045",
            "7e19423efe6447a6955e7ad9a23171eb",
            "ece80e2d42ac4db484359b047b1a1482",
            "90ff853ebee045ff8c197a5edc3512f7",
            "fdb9a0ae91da4ce0ad560041ca624cb3",
            "7dc56203fef54e648f09aedb4a1024aa",
            "0e3a09cd544447609c6b8fd24681b6d4",
            "f9841bb50cab432db1c3d8ae03d0c78f",
            "f168f57b048347f896636e6248111865",
            "0f3715cda43d4c738e9d3c00d44f9ae9",
            "611b4e514feb4db58aaf986069eae527",
            "1ae11ad09cc247b3917dda6ef58352d5",
            "c507d93de5e6437a8f10ec70f707b3ae",
            "8c091ff122144287ae78fd5a105e4c93",
            "cde27dc4354e41ef803da48b53241818",
            "40d77de20e06451191c555a15bbec7e4",
            "4aa6ba4e643c4c4792706efe39902248",
            "630774a965e342258f86cbe488c13fc4",
            "b69afe30ce1e477dadf8f3dc7974588a",
            "42148fd56665443c95dbd65bb04910fa",
            "fb6a6963228a470cadb464f4190d2f69",
            "39f13b4e9f824f4aa69606943c7f1c5b",
            "2188e2c28b4c43189b27294a2e811d7e",
            "454ee476fb744780b18471eb06e06fab",
            "85e1816590784eea8862a7113d791ea1",
            "27ad34e14f2c4caa8dbab0fce8de6e6e",
            "4ac22fb7175a42759e33cc0975c56dca",
            "79d68021a94049f7a225b8cb5c1e2490",
            "fe208d1e0ab741cdb8f200ec3848e9a4",
            "13795cea98334ae0af6690f572df5b7d",
            "bb680c7581e743c3b0af396c3ef4d467",
            "da694206e2564d3b861c37d2ec6e821a",
            "f1add1c0315e45978d556b0f688fb1fc",
            "978395da0cf14e0e921241e72a752b7d",
            "198a711c26a2499db40a693184c129b3",
            "0f9a6da353424f829cec611fdd025ebd",
            "ee2dfd6f9a824f879031864bee37e882",
            "a9eed39d05e940f9aa2b886c30be4894"
          ]
        },
        "outputId": "3fbf070a-052c-432d-82c2-12e7b3eb6a81"
      },
      "outputs": [
        {
          "output_type": "stream",
          "name": "stdout",
          "text": [
            "Downloading http://yann.lecun.com/exdb/mnist/train-images-idx3-ubyte.gz\n",
            "Downloading http://yann.lecun.com/exdb/mnist/train-images-idx3-ubyte.gz to data/MNIST/raw/train-images-idx3-ubyte.gz\n"
          ]
        },
        {
          "output_type": "display_data",
          "data": {
            "text/plain": [
              "  0%|          | 0/9912422 [00:00<?, ?it/s]"
            ],
            "application/vnd.jupyter.widget-view+json": {
              "version_major": 2,
              "version_minor": 0,
              "model_id": "44cc23822d5e4f74bafe7df62ddcde3f"
            }
          },
          "metadata": {}
        },
        {
          "output_type": "stream",
          "name": "stdout",
          "text": [
            "Extracting data/MNIST/raw/train-images-idx3-ubyte.gz to data/MNIST/raw\n",
            "\n",
            "Downloading http://yann.lecun.com/exdb/mnist/train-labels-idx1-ubyte.gz\n",
            "Downloading http://yann.lecun.com/exdb/mnist/train-labels-idx1-ubyte.gz to data/MNIST/raw/train-labels-idx1-ubyte.gz\n"
          ]
        },
        {
          "output_type": "display_data",
          "data": {
            "text/plain": [
              "  0%|          | 0/28881 [00:00<?, ?it/s]"
            ],
            "application/vnd.jupyter.widget-view+json": {
              "version_major": 2,
              "version_minor": 0,
              "model_id": "7dc56203fef54e648f09aedb4a1024aa"
            }
          },
          "metadata": {}
        },
        {
          "output_type": "stream",
          "name": "stdout",
          "text": [
            "Extracting data/MNIST/raw/train-labels-idx1-ubyte.gz to data/MNIST/raw\n",
            "\n",
            "Downloading http://yann.lecun.com/exdb/mnist/t10k-images-idx3-ubyte.gz\n",
            "Downloading http://yann.lecun.com/exdb/mnist/t10k-images-idx3-ubyte.gz to data/MNIST/raw/t10k-images-idx3-ubyte.gz\n"
          ]
        },
        {
          "output_type": "display_data",
          "data": {
            "text/plain": [
              "  0%|          | 0/1648877 [00:00<?, ?it/s]"
            ],
            "application/vnd.jupyter.widget-view+json": {
              "version_major": 2,
              "version_minor": 0,
              "model_id": "4aa6ba4e643c4c4792706efe39902248"
            }
          },
          "metadata": {}
        },
        {
          "output_type": "stream",
          "name": "stdout",
          "text": [
            "Extracting data/MNIST/raw/t10k-images-idx3-ubyte.gz to data/MNIST/raw\n",
            "\n",
            "Downloading http://yann.lecun.com/exdb/mnist/t10k-labels-idx1-ubyte.gz\n",
            "Downloading http://yann.lecun.com/exdb/mnist/t10k-labels-idx1-ubyte.gz to data/MNIST/raw/t10k-labels-idx1-ubyte.gz\n"
          ]
        },
        {
          "output_type": "display_data",
          "data": {
            "text/plain": [
              "  0%|          | 0/4542 [00:00<?, ?it/s]"
            ],
            "application/vnd.jupyter.widget-view+json": {
              "version_major": 2,
              "version_minor": 0,
              "model_id": "79d68021a94049f7a225b8cb5c1e2490"
            }
          },
          "metadata": {}
        },
        {
          "output_type": "stream",
          "name": "stdout",
          "text": [
            "Extracting data/MNIST/raw/t10k-labels-idx1-ubyte.gz to data/MNIST/raw\n",
            "\n"
          ]
        },
        {
          "output_type": "execute_result",
          "data": {
            "text/plain": [
              "60000"
            ]
          },
          "metadata": {},
          "execution_count": 1
        }
      ],
      "source": [
        "#MNIST Project \n",
        "#torchvision cointains utilities for working with the image data, also allows to get popular dataset \n",
        "\n",
        "import torch \n",
        "import torchvision \n",
        "from torchvision.datasets import MNIST\n",
        "\n",
        "#Download the training dataset \n",
        "dataset =  MNIST(root='data/' , download = True)\n",
        "\n",
        "len(dataset)"
      ]
    },
    {
      "cell_type": "code",
      "source": [
        "test_dataset = MNIST(root='data/', train = False)\n",
        "len(test_dataset)"
      ],
      "metadata": {
        "colab": {
          "base_uri": "https://localhost:8080/"
        },
        "id": "LJrBypV1kHfz",
        "outputId": "cd28590f-a96c-422b-c024-bf7a7b8f2890"
      },
      "execution_count": 2,
      "outputs": [
        {
          "output_type": "execute_result",
          "data": {
            "text/plain": [
              "10000"
            ]
          },
          "metadata": {},
          "execution_count": 2
        }
      ]
    },
    {
      "cell_type": "code",
      "source": [
        "#PIL is python imaging library pillow to load the images \n",
        "dataset[0]\n",
        "\n",
        "import matplotlib.pyplot as plt\n",
        "#Inline command which tells that we need to see the graphs in the notebook not as a popoup \n",
        "%matplotlib inline "
      ],
      "metadata": {
        "id": "rw1rDilRkJs3"
      },
      "execution_count": 3,
      "outputs": []
    },
    {
      "cell_type": "code",
      "source": [
        "image, label = dataset[0]\n",
        "plt.imshow(image, cmap= 'gray')\n",
        "print('Label: ', label)"
      ],
      "metadata": {
        "colab": {
          "base_uri": "https://localhost:8080/",
          "height": 282
        },
        "id": "koHesO1RkLo2",
        "outputId": "42d06775-9bc7-4a04-9e1c-719948e7acc4"
      },
      "execution_count": 4,
      "outputs": [
        {
          "output_type": "stream",
          "name": "stdout",
          "text": [
            "Label:  5\n"
          ]
        },
        {
          "output_type": "display_data",
          "data": {
            "text/plain": [
              "<Figure size 432x288 with 1 Axes>"
            ],
            "image/png": "[encoded data removed]"
          },
          "metadata": {
            "needs_background": "light"
          }
        }
      ]
    },
    {
      "cell_type": "code",
      "source": [
        "image, label = dataset[10]\n",
        "plt.imshow(image, cmap= 'gray')\n",
        "print('Label: ', label)"
      ],
      "metadata": {
        "colab": {
          "base_uri": "https://localhost:8080/",
          "height": 282
        },
        "id": "akNcvFQ9kNHb",
        "outputId": "b62bf417-b3f0-4be9-e7b2-afaed173d2bb"
      },
      "execution_count": 5,
      "outputs": [
        {
          "output_type": "stream",
          "name": "stdout",
          "text": [
            "Label:  3\n"
          ]
        },
        {
          "output_type": "display_data",
          "data": {
            "text/plain": [
              "<Figure size 432x288 with 1 Axes>"
            ],
            "image/png": "[encoded data removed]"
          },
          "metadata": {
            "needs_background": "light"
          }
        }
      ]
    },
    {
      "cell_type": "code",
      "source": [
        "import torchvision.transforms as transforms\n",
        "#these convert images to tensors \n",
        "\n",
        "dataset = MNIST(root = \"data/\", train = True, transform = transforms.ToTensor())"
      ],
      "metadata": {
        "id": "w_Mh_tXOkOxA"
      },
      "execution_count": 6,
      "outputs": []
    },
    {
      "cell_type": "code",
      "source": [
        "img_tensor, label = dataset[0]\n",
        "print(img_tensor.shape , label )\n",
        "\n",
        "#First dimension is the color channel \n",
        "#next two dimensions are height and width \n"
      ],
      "metadata": {
        "colab": {
          "base_uri": "https://localhost:8080/"
        },
        "id": "WhdxsC7XkQhC",
        "outputId": "69933bb0-5eea-4bea-e196-033cd0e8fabd"
      },
      "execution_count": 7,
      "outputs": [
        {
          "output_type": "stream",
          "name": "stdout",
          "text": [
            "torch.Size([1, 28, 28]) 5\n"
          ]
        }
      ]
    },
    {
      "cell_type": "code",
      "source": [
        "print(img_tensor[:,10:15,10:15])\n",
        "print(torch.max(img_tensor), torch.min(img_tensor))"
      ],
      "metadata": {
        "colab": {
          "base_uri": "https://localhost:8080/"
        },
        "id": "_qVV_idwkSYk",
        "outputId": "99f9fb4a-d86d-4397-912e-69782f558fdb"
      },
      "execution_count": 8,
      "outputs": [
        {
          "output_type": "stream",
          "name": "stdout",
          "text": [
            "tensor([[[0.0039, 0.6039, 0.9922, 0.3529, 0.0000],\n",
            "         [0.0000, 0.5451, 0.9922, 0.7451, 0.0078],\n",
            "         [0.0000, 0.0431, 0.7451, 0.9922, 0.2745],\n",
            "         [0.0000, 0.0000, 0.1373, 0.9451, 0.8824],\n",
            "         [0.0000, 0.0000, 0.0000, 0.3176, 0.9412]]])\n",
            "tensor(1.) tensor(0.)\n"
          ]
        }
      ]
    },
    {
      "cell_type": "code",
      "source": [
        "#Matplotlib keeps the color dimension as the last or does not keep it whereas the pytorch keeps it as the first dimensions\n",
        "plt.imshow(img_tensor[0,10:15,10:15], cmap='gray')"
      ],
      "metadata": {
        "colab": {
          "base_uri": "https://localhost:8080/",
          "height": 282
        },
        "id": "bBKJ_dlekTzC",
        "outputId": "386f7cb5-8134-4736-ed2c-57557b59b5bc"
      },
      "execution_count": 9,
      "outputs": [
        {
          "output_type": "execute_result",
          "data": {
            "text/plain": [
              "<matplotlib.image.AxesImage at 0x7f613908f4d0>"
            ]
          },
          "metadata": {},
          "execution_count": 9
        },
        {
          "output_type": "display_data",
          "data": {
            "text/plain": [
              "<Figure size 432x288 with 1 Axes>"
            ],
            "image/png": "[encoded data removed]"
          },
          "metadata": {
            "needs_background": "light"
          }
        }
      ]
    },
    {
      "cell_type": "code",
      "source": [
        "import numpy as np \n",
        "\n",
        "def split_indices(n, val_pct):\n",
        "  n_val = int(n*val_pct)\n",
        "  idex = np.random.permutation(n)\n",
        "\n",
        "  return idex[n_val:], idex[:n_val]\n",
        "\n",
        "\n"
      ],
      "metadata": {
        "id": "qS2T4WL0kVav"
      },
      "execution_count": 10,
      "outputs": []
    },
    {
      "cell_type": "code",
      "source": [
        "train_indices , val_indices = split_indices(len(dataset), val_pct = 0.2)\n",
        "\n",
        "print(len(train_indices), len(val_indices))\n",
        "print('sample val indices:', val_indices[:20])\n",
        "\n",
        "#Randomly sampling is done as the data may be in order \n",
        "#time series might be tricky so has to see case v=bt case and does not have to do random smapling  "
      ],
      "metadata": {
        "colab": {
          "base_uri": "https://localhost:8080/"
        },
        "id": "2JWO2gcRkXTk",
        "outputId": "d5b1ff4a-3c26-4f65-f4c1-66b5a0486196"
      },
      "execution_count": 12,
      "outputs": [
        {
          "output_type": "stream",
          "name": "stdout",
          "text": [
            "48000 12000\n",
            "sample val indices: [43359  7036 46537 58653 29337 32988 22115 39050   313 34624 33665 30428\n",
            "  4705 49172  4555 55659 33475 32885 15470 23366]\n"
          ]
        }
      ]
    },
    {
      "cell_type": "code",
      "source": [
        "from torch.utils.data.sampler import SubsetRandomSampler\n",
        "from torch.utils.data.dataloader import DataLoader \n",
        "\n",
        "batch_size = 100 \n",
        "train_sampler = SubsetRandomSampler(train_indices)\n",
        "train_loader = DataLoader(dataset, batch_size, sampler = train_sampler)\n",
        "\n",
        "val_sampler = SubsetRandomSampler(val_indices)\n",
        "val_loader = DataLoader(dataset, batch_size, sampler= val_sampler)\n",
        "\n"
      ],
      "metadata": {
        "id": "bLLSNvtOkZM3"
      },
      "execution_count": 13,
      "outputs": []
    },
    {
      "cell_type": "code",
      "source": [
        "import torch.nn as nn\n",
        "\n",
        "input_size = 28*28\n",
        "num_classes = 10\n",
        "\n",
        "# Logistic regression model\n",
        "model = nn.Linear(input_size, num_classes)"
      ],
      "metadata": {
        "id": "uC4sAVXWkeqN"
      },
      "execution_count": 21,
      "outputs": []
    },
    {
      "cell_type": "code",
      "source": [
        "print(model.weight.shape)\n",
        "model.weight"
      ],
      "metadata": {
        "colab": {
          "base_uri": "https://localhost:8080/"
        },
        "id": "l4pCADFfkhAq",
        "outputId": "e250286e-5328-4ad7-86e4-ecb531d1f9d3"
      },
      "execution_count": 22,
      "outputs": [
        {
          "output_type": "stream",
          "name": "stdout",
          "text": [
            "torch.Size([10, 784])\n"
          ]
        },
        {
          "output_type": "execute_result",
          "data": {
            "text/plain": [
              "Parameter containing:\n",
              "tensor([[-0.0078, -0.0208,  0.0244,  ...,  0.0216,  0.0211,  0.0169],\n",
              "        [ 0.0100, -0.0160,  0.0260,  ...,  0.0186,  0.0347, -0.0117],\n",
              "        [ 0.0317,  0.0284,  0.0087,  ...,  0.0339, -0.0115, -0.0311],\n",
              "        ...,\n",
              "        [ 0.0172,  0.0268,  0.0318,  ..., -0.0173,  0.0352, -0.0003],\n",
              "        [ 0.0105, -0.0220, -0.0013,  ..., -0.0125,  0.0072, -0.0120],\n",
              "        [-0.0298,  0.0337,  0.0319,  ...,  0.0175,  0.0262,  0.0285]],\n",
              "       requires_grad=True)"
            ]
          },
          "metadata": {},
          "execution_count": 22
        }
      ]
    },
    {
      "cell_type": "code",
      "source": [
        "print(model.bias.shape)\n",
        "model.bias"
      ],
      "metadata": {
        "colab": {
          "base_uri": "https://localhost:8080/"
        },
        "id": "rpNEUVnZkiti",
        "outputId": "6868950e-2c66-463c-ef58-6854ed2d2ffa"
      },
      "execution_count": 23,
      "outputs": [
        {
          "output_type": "stream",
          "name": "stdout",
          "text": [
            "torch.Size([10])\n"
          ]
        },
        {
          "output_type": "execute_result",
          "data": {
            "text/plain": [
              "Parameter containing:\n",
              "tensor([ 0.0131,  0.0267,  0.0041,  0.0220, -0.0077,  0.0173,  0.0076,  0.0130,\n",
              "         0.0153, -0.0192], requires_grad=True)"
            ]
          },
          "metadata": {},
          "execution_count": 23
        }
      ]
    },
    {
      "cell_type": "code",
      "source": [
        "for images, labels in train_loader:\n",
        "    print(labels)\n",
        "    print(images.shape)\n",
        "    outputs = model(images)\n",
        "    print(outputs)\n",
        "    break"
      ],
      "metadata": {
        "colab": {
          "base_uri": "https://localhost:8080/",
          "height": 484
        },
        "id": "t5G0yK40kkXt",
        "outputId": "4034f0a9-6f7f-4ef8-fbeb-f20f5dc42bd9"
      },
      "execution_count": 24,
      "outputs": [
        {
          "output_type": "stream",
          "name": "stdout",
          "text": [
            "tensor([5, 2, 3, 3, 6, 3, 8, 4, 3, 0, 0, 4, 2, 8, 8, 5, 5, 1, 3, 8, 1, 9, 6, 6,\n",
            "        7, 5, 8, 9, 4, 8, 3, 4, 5, 7, 1, 4, 7, 3, 4, 5, 5, 1, 4, 0, 0, 6, 7, 9,\n",
            "        7, 7, 2, 7, 9, 1, 1, 3, 7, 8, 5, 6, 3, 2, 0, 9, 6, 2, 7, 5, 2, 3, 4, 2,\n",
            "        0, 2, 1, 9, 0, 2, 1, 1, 2, 6, 1, 1, 2, 2, 1, 3, 1, 3, 6, 7, 7, 2, 7, 2,\n",
            "        5, 6, 4, 2])\n",
            "torch.Size([100, 1, 28, 28])\n"
          ]
        },
        {
          "output_type": "error",
          "ename": "RuntimeError",
          "evalue": "ignored",
          "traceback": [
            "\u001b[0;31m---------------------------------------------------------------------------\u001b[0m",
            "\u001b[0;31mRuntimeError\u001b[0m                              Traceback (most recent call last)",
            "\u001b[0;32m<ipython-input-24-d0fe7d306f83>\u001b[0m in \u001b[0;36m<module>\u001b[0;34m()\u001b[0m\n\u001b[1;32m      2\u001b[0m     \u001b[0mprint\u001b[0m\u001b[0;34m(\u001b[0m\u001b[0mlabels\u001b[0m\u001b[0;34m)\u001b[0m\u001b[0;34m\u001b[0m\u001b[0;34m\u001b[0m\u001b[0m\n\u001b[1;32m      3\u001b[0m     \u001b[0mprint\u001b[0m\u001b[0;34m(\u001b[0m\u001b[0mimages\u001b[0m\u001b[0;34m.\u001b[0m\u001b[0mshape\u001b[0m\u001b[0;34m)\u001b[0m\u001b[0;34m\u001b[0m\u001b[0;34m\u001b[0m\u001b[0m\n\u001b[0;32m----> 4\u001b[0;31m     \u001b[0moutputs\u001b[0m \u001b[0;34m=\u001b[0m \u001b[0mmodel\u001b[0m\u001b[0;34m(\u001b[0m\u001b[0mimages\u001b[0m\u001b[0;34m)\u001b[0m\u001b[0;34m\u001b[0m\u001b[0;34m\u001b[0m\u001b[0m\n\u001b[0m\u001b[1;32m      5\u001b[0m     \u001b[0mprint\u001b[0m\u001b[0;34m(\u001b[0m\u001b[0moutputs\u001b[0m\u001b[0;34m)\u001b[0m\u001b[0;34m\u001b[0m\u001b[0;34m\u001b[0m\u001b[0m\n\u001b[1;32m      6\u001b[0m     \u001b[0;32mbreak\u001b[0m\u001b[0;34m\u001b[0m\u001b[0;34m\u001b[0m\u001b[0m\n",
            "\u001b[0;32m/usr/local/lib/python3.7/dist-packages/torch/nn/modules/module.py\u001b[0m in \u001b[0;36m_call_impl\u001b[0;34m(self, *input, **kwargs)\u001b[0m\n\u001b[1;32m   1108\u001b[0m         if not (self._backward_hooks or self._forward_hooks or self._forward_pre_hooks or _global_backward_hooks\n\u001b[1;32m   1109\u001b[0m                 or _global_forward_hooks or _global_forward_pre_hooks):\n\u001b[0;32m-> 1110\u001b[0;31m             \u001b[0;32mreturn\u001b[0m \u001b[0mforward_call\u001b[0m\u001b[0;34m(\u001b[0m\u001b[0;34m*\u001b[0m\u001b[0minput\u001b[0m\u001b[0;34m,\u001b[0m \u001b[0;34m**\u001b[0m\u001b[0mkwargs\u001b[0m\u001b[0;34m)\u001b[0m\u001b[0;34m\u001b[0m\u001b[0;34m\u001b[0m\u001b[0m\n\u001b[0m\u001b[1;32m   1111\u001b[0m         \u001b[0;31m# Do not call functions when jit is used\u001b[0m\u001b[0;34m\u001b[0m\u001b[0;34m\u001b[0m\u001b[0;34m\u001b[0m\u001b[0m\n\u001b[1;32m   1112\u001b[0m         \u001b[0mfull_backward_hooks\u001b[0m\u001b[0;34m,\u001b[0m \u001b[0mnon_full_backward_hooks\u001b[0m \u001b[0;34m=\u001b[0m \u001b[0;34m[\u001b[0m\u001b[0;34m]\u001b[0m\u001b[0;34m,\u001b[0m \u001b[0;34m[\u001b[0m\u001b[0;34m]\u001b[0m\u001b[0;34m\u001b[0m\u001b[0;34m\u001b[0m\u001b[0m\n",
            "\u001b[0;32m/usr/local/lib/python3.7/dist-packages/torch/nn/modules/linear.py\u001b[0m in \u001b[0;36mforward\u001b[0;34m(self, input)\u001b[0m\n\u001b[1;32m    101\u001b[0m \u001b[0;34m\u001b[0m\u001b[0m\n\u001b[1;32m    102\u001b[0m     \u001b[0;32mdef\u001b[0m \u001b[0mforward\u001b[0m\u001b[0;34m(\u001b[0m\u001b[0mself\u001b[0m\u001b[0;34m,\u001b[0m \u001b[0minput\u001b[0m\u001b[0;34m:\u001b[0m \u001b[0mTensor\u001b[0m\u001b[0;34m)\u001b[0m \u001b[0;34m->\u001b[0m \u001b[0mTensor\u001b[0m\u001b[0;34m:\u001b[0m\u001b[0;34m\u001b[0m\u001b[0;34m\u001b[0m\u001b[0m\n\u001b[0;32m--> 103\u001b[0;31m         \u001b[0;32mreturn\u001b[0m \u001b[0mF\u001b[0m\u001b[0;34m.\u001b[0m\u001b[0mlinear\u001b[0m\u001b[0;34m(\u001b[0m\u001b[0minput\u001b[0m\u001b[0;34m,\u001b[0m \u001b[0mself\u001b[0m\u001b[0;34m.\u001b[0m\u001b[0mweight\u001b[0m\u001b[0;34m,\u001b[0m \u001b[0mself\u001b[0m\u001b[0;34m.\u001b[0m\u001b[0mbias\u001b[0m\u001b[0;34m)\u001b[0m\u001b[0;34m\u001b[0m\u001b[0;34m\u001b[0m\u001b[0m\n\u001b[0m\u001b[1;32m    104\u001b[0m \u001b[0;34m\u001b[0m\u001b[0m\n\u001b[1;32m    105\u001b[0m     \u001b[0;32mdef\u001b[0m \u001b[0mextra_repr\u001b[0m\u001b[0;34m(\u001b[0m\u001b[0mself\u001b[0m\u001b[0;34m)\u001b[0m \u001b[0;34m->\u001b[0m \u001b[0mstr\u001b[0m\u001b[0;34m:\u001b[0m\u001b[0;34m\u001b[0m\u001b[0;34m\u001b[0m\u001b[0m\n",
            "\u001b[0;31mRuntimeError\u001b[0m: mat1 and mat2 shapes cannot be multiplied (2800x28 and 784x10)"
          ]
        }
      ]
    },
    {
      "cell_type": "code",
      "source": [
        "images.shape"
      ],
      "metadata": {
        "colab": {
          "base_uri": "https://localhost:8080/"
        },
        "id": "cir7dIImkyBG",
        "outputId": "61b8f714-5602-400f-9d27-8c6e3d55c484"
      },
      "execution_count": 25,
      "outputs": [
        {
          "output_type": "execute_result",
          "data": {
            "text/plain": [
              "torch.Size([100, 1, 28, 28])"
            ]
          },
          "metadata": {},
          "execution_count": 25
        }
      ]
    },
    {
      "cell_type": "code",
      "source": [
        "images.reshape(100, 784).shape"
      ],
      "metadata": {
        "colab": {
          "base_uri": "https://localhost:8080/"
        },
        "id": "deMgZ_nDlmGm",
        "outputId": "0636fac9-054a-41ea-91b7-a451bf12ef33"
      },
      "execution_count": 27,
      "outputs": [
        {
          "output_type": "execute_result",
          "data": {
            "text/plain": [
              "torch.Size([100, 784])"
            ]
          },
          "metadata": {},
          "execution_count": 27
        }
      ]
    },
    {
      "cell_type": "code",
      "source": [
        "class MnistModel(nn.Module):\n",
        "    def __init__(self):\n",
        "        super().__init__()\n",
        "        self.linear = nn.Linear(input_size, num_classes)\n",
        "        \n",
        "    def forward(self, xb):\n",
        "        xb = xb.reshape(-1, 784)\n",
        "        out = self.linear(xb)\n",
        "        return out\n",
        "    \n",
        "model = MnistModel()"
      ],
      "metadata": {
        "id": "kSjKlVxBlnxW"
      },
      "execution_count": 28,
      "outputs": []
    },
    {
      "cell_type": "code",
      "source": [
        "model.linear"
      ],
      "metadata": {
        "colab": {
          "base_uri": "https://localhost:8080/"
        },
        "id": "TUGLMdNrlvUZ",
        "outputId": "e1304372-b50f-4d49-e6bf-e7594bfef41e"
      },
      "execution_count": 29,
      "outputs": [
        {
          "output_type": "execute_result",
          "data": {
            "text/plain": [
              "Linear(in_features=784, out_features=10, bias=True)"
            ]
          },
          "metadata": {},
          "execution_count": 29
        }
      ]
    },
    {
      "cell_type": "code",
      "source": [
        "print(model.linear.weight.shape, model.linear.bias.shape)\n",
        "list(model.parameters())"
      ],
      "metadata": {
        "colab": {
          "base_uri": "https://localhost:8080/"
        },
        "id": "XUYzqq4zlxVr",
        "outputId": "96e5a15c-391a-46ff-a832-9003d2603ba1"
      },
      "execution_count": 30,
      "outputs": [
        {
          "output_type": "stream",
          "name": "stdout",
          "text": [
            "torch.Size([10, 784]) torch.Size([10])\n"
          ]
        },
        {
          "output_type": "execute_result",
          "data": {
            "text/plain": [
              "[Parameter containing:\n",
              " tensor([[ 5.6759e-03,  2.8365e-02,  3.0237e-05,  ...,  7.2125e-03,\n",
              "          -3.5273e-02,  2.2175e-02],\n",
              "         [ 1.8005e-02,  2.1569e-02,  1.4232e-03,  ...,  2.9687e-02,\n",
              "           1.9371e-03, -3.5235e-02],\n",
              "         [-6.1244e-05,  3.3674e-02, -1.0544e-02,  ..., -2.1539e-02,\n",
              "           1.8534e-02, -2.2943e-03],\n",
              "         ...,\n",
              "         [-2.3981e-02, -1.1729e-02, -2.1161e-02,  ...,  1.3691e-02,\n",
              "           1.6947e-02,  1.6765e-02],\n",
              "         [ 2.8214e-02,  3.3939e-02,  3.3775e-02,  ...,  2.6019e-02,\n",
              "           1.8816e-02, -1.9651e-02],\n",
              "         [ 6.9054e-03,  1.8164e-02,  1.8440e-02,  ...,  8.7945e-03,\n",
              "           1.6437e-02, -4.4689e-03]], requires_grad=True),\n",
              " Parameter containing:\n",
              " tensor([-0.0219,  0.0349,  0.0238, -0.0039, -0.0204, -0.0291,  0.0167, -0.0006,\n",
              "         -0.0339, -0.0206], requires_grad=True)]"
            ]
          },
          "metadata": {},
          "execution_count": 30
        }
      ]
    },
    {
      "cell_type": "code",
      "source": [
        "for images, labels in train_loader:\n",
        "    print(images.shape)\n",
        "    outputs = model(images)\n",
        "    break\n",
        "\n",
        "print('outputs.shape : ', outputs.shape)\n",
        "print('Sample outputs :\\n', outputs[:2].data)"
      ],
      "metadata": {
        "colab": {
          "base_uri": "https://localhost:8080/"
        },
        "id": "L24TQ7qZlzAa",
        "outputId": "a420047e-40db-4752-deea-e54e9b93107e"
      },
      "execution_count": 31,
      "outputs": [
        {
          "output_type": "stream",
          "name": "stdout",
          "text": [
            "torch.Size([100, 1, 28, 28])\n",
            "outputs.shape :  torch.Size([100, 10])\n",
            "Sample outputs :\n",
            " tensor([[ 2.8080e-01,  2.3659e-01,  3.0535e-02,  4.1522e-02, -1.7943e-01,\n",
            "         -4.1488e-03,  2.5126e-04,  1.0195e-01, -1.8421e-01,  2.5444e-01],\n",
            "        [ 1.6762e-01, -1.2984e-01,  3.8621e-02,  2.4603e-01, -1.4693e-02,\n",
            "         -1.5720e-02, -3.1680e-02,  1.0176e-01, -5.6181e-02,  1.0680e-01]])\n"
          ]
        }
      ]
    },
    {
      "cell_type": "code",
      "source": [
        "import torch.nn.functional as F\n",
        "outputs[:2]"
      ],
      "metadata": {
        "colab": {
          "base_uri": "https://localhost:8080/"
        },
        "id": "mbMgtG_ol1Zl",
        "outputId": "2167c477-40a7-4b60-b06c-d61a180252c7"
      },
      "execution_count": 32,
      "outputs": [
        {
          "output_type": "execute_result",
          "data": {
            "text/plain": [
              "tensor([[ 2.8080e-01,  2.3659e-01,  3.0535e-02,  4.1522e-02, -1.7943e-01,\n",
              "         -4.1488e-03,  2.5126e-04,  1.0195e-01, -1.8421e-01,  2.5444e-01],\n",
              "        [ 1.6762e-01, -1.2984e-01,  3.8621e-02,  2.4603e-01, -1.4693e-02,\n",
              "         -1.5720e-02, -3.1680e-02,  1.0176e-01, -5.6181e-02,  1.0680e-01]],\n",
              "       grad_fn=<SliceBackward0>)"
            ]
          },
          "metadata": {},
          "execution_count": 32
        }
      ]
    },
    {
      "cell_type": "code",
      "source": [
        "# Apply softmax for each output row\n",
        "probs = F.softmax(outputs, dim=1)\n",
        "\n",
        "# Look at sample probabilities\n",
        "print(\"Sample probabilities:\\n\", probs[:2].data)\n",
        "\n",
        "# Add up the probabilities of an output row\n",
        "print(\"Sum: \", torch.sum(probs[0]).item())"
      ],
      "metadata": {
        "colab": {
          "base_uri": "https://localhost:8080/"
        },
        "id": "JNL7Qb00l6w0",
        "outputId": "ab6fa5eb-3ef2-45ad-8fa6-362e68df98a5"
      },
      "execution_count": 33,
      "outputs": [
        {
          "output_type": "stream",
          "name": "stdout",
          "text": [
            "Sample probabilities:\n",
            " tensor([[0.1235, 0.1181, 0.0961, 0.0972, 0.0779, 0.0929, 0.0933, 0.1032, 0.0776,\n",
            "         0.1203],\n",
            "        [0.1128, 0.0838, 0.0992, 0.1220, 0.0940, 0.0939, 0.0924, 0.1056, 0.0902,\n",
            "         0.1061]])\n",
            "Sum:  0.9999999403953552\n"
          ]
        }
      ]
    },
    {
      "cell_type": "code",
      "source": [
        "max_probs, preds = torch.max(probs, dim=1)\n",
        "print(preds)\n",
        "print(max_probs)"
      ],
      "metadata": {
        "colab": {
          "base_uri": "https://localhost:8080/"
        },
        "id": "fLt3kFxbl8sz",
        "outputId": "8cfe437f-d028-46d2-fc7e-ea4b84b10329"
      },
      "execution_count": 34,
      "outputs": [
        {
          "output_type": "stream",
          "name": "stdout",
          "text": [
            "tensor([0, 3, 3, 0, 3, 7, 0, 0, 9, 0, 3, 0, 0, 0, 3, 6, 3, 3, 0, 9, 0, 0, 0, 7,\n",
            "        3, 9, 0, 9, 7, 3, 9, 0, 0, 3, 0, 0, 0, 0, 0, 0, 0, 3, 3, 7, 0, 3, 9, 3,\n",
            "        0, 3, 3, 7, 5, 3, 0, 3, 0, 0, 0, 0, 0, 7, 0, 0, 2, 0, 0, 9, 9, 3, 0, 9,\n",
            "        0, 0, 9, 2, 8, 0, 0, 0, 0, 3, 1, 0, 5, 1, 0, 9, 9, 0, 0, 3, 0, 0, 0, 0,\n",
            "        0, 0, 3, 0])\n",
            "tensor([0.1235, 0.1220, 0.1213, 0.1427, 0.1382, 0.1278, 0.1632, 0.1430, 0.1389,\n",
            "        0.1513, 0.1644, 0.1343, 0.1505, 0.1250, 0.1275, 0.1190, 0.1238, 0.1271,\n",
            "        0.1582, 0.1316, 0.1435, 0.1407, 0.1432, 0.1311, 0.1269, 0.1351, 0.1361,\n",
            "        0.1212, 0.1446, 0.1330, 0.1245, 0.1302, 0.1369, 0.1264, 0.1379, 0.1202,\n",
            "        0.1267, 0.1296, 0.1520, 0.1608, 0.1515, 0.1416, 0.1368, 0.1262, 0.1302,\n",
            "        0.1321, 0.1304, 0.1296, 0.1518, 0.1368, 0.1280, 0.1250, 0.1267, 0.1221,\n",
            "        0.1382, 0.1306, 0.1143, 0.1245, 0.1506, 0.1374, 0.1423, 0.1218, 0.1284,\n",
            "        0.1393, 0.1235, 0.1420, 0.1485, 0.1365, 0.1308, 0.1231, 0.1372, 0.1306,\n",
            "        0.1340, 0.1570, 0.1251, 0.1316, 0.1170, 0.1369, 0.1112, 0.1330, 0.1792,\n",
            "        0.1394, 0.1174, 0.1454, 0.1268, 0.1291, 0.1591, 0.1415, 0.1388, 0.1190,\n",
            "        0.1447, 0.1393, 0.1238, 0.1328, 0.1380, 0.1377, 0.1563, 0.1568, 0.1303,\n",
            "        0.1226], grad_fn=<MaxBackward0>)\n"
          ]
        }
      ]
    },
    {
      "cell_type": "code",
      "source": [
        "labels"
      ],
      "metadata": {
        "colab": {
          "base_uri": "https://localhost:8080/"
        },
        "id": "Jxu_REPPl-Z6",
        "outputId": "e7056caa-17d5-45c0-bd31-d43665672f5f"
      },
      "execution_count": 35,
      "outputs": [
        {
          "output_type": "execute_result",
          "data": {
            "text/plain": [
              "tensor([0, 1, 5, 5, 1, 8, 7, 2, 1, 2, 0, 4, 0, 5, 4, 7, 1, 5, 2, 1, 2, 8, 8, 3,\n",
              "        7, 9, 1, 1, 8, 1, 1, 2, 4, 8, 7, 1, 6, 8, 7, 2, 8, 5, 1, 0, 4, 1, 1, 0,\n",
              "        3, 5, 1, 6, 9, 1, 0, 1, 5, 0, 0, 2, 8, 3, 6, 9, 6, 7, 3, 2, 1, 7, 5, 1,\n",
              "        7, 4, 6, 4, 4, 4, 4, 7, 2, 4, 7, 1, 4, 4, 4, 6, 2, 4, 6, 5, 1, 5, 6, 9,\n",
              "        8, 9, 7, 7])"
            ]
          },
          "metadata": {},
          "execution_count": 35
        }
      ]
    },
    {
      "cell_type": "code",
      "source": [
        "outputs[:2]"
      ],
      "metadata": {
        "colab": {
          "base_uri": "https://localhost:8080/"
        },
        "id": "gI-qO3JlmBQR",
        "outputId": "d7554fd4-c071-4ac1-88d8-e359c8ce219c"
      },
      "execution_count": 36,
      "outputs": [
        {
          "output_type": "execute_result",
          "data": {
            "text/plain": [
              "tensor([[ 2.8080e-01,  2.3659e-01,  3.0535e-02,  4.1522e-02, -1.7943e-01,\n",
              "         -4.1488e-03,  2.5126e-04,  1.0195e-01, -1.8421e-01,  2.5444e-01],\n",
              "        [ 1.6762e-01, -1.2984e-01,  3.8621e-02,  2.4603e-01, -1.4693e-02,\n",
              "         -1.5720e-02, -3.1680e-02,  1.0176e-01, -5.6181e-02,  1.0680e-01]],\n",
              "       grad_fn=<SliceBackward0>)"
            ]
          },
          "metadata": {},
          "execution_count": 36
        }
      ]
    },
    {
      "cell_type": "code",
      "source": [
        "torch.sum(preds == labels)"
      ],
      "metadata": {
        "colab": {
          "base_uri": "https://localhost:8080/"
        },
        "id": "7Y__dq2lmDeC",
        "outputId": "521ca87f-5bb6-4bc6-840b-3f6d5e556779"
      },
      "execution_count": 37,
      "outputs": [
        {
          "output_type": "execute_result",
          "data": {
            "text/plain": [
              "tensor(6)"
            ]
          },
          "metadata": {},
          "execution_count": 37
        }
      ]
    },
    {
      "cell_type": "code",
      "source": [
        "def accuracy(outputs, labels):\n",
        "    _, preds = torch.max(outputs, dim=1)\n",
        "    return torch.tensor(torch.sum(preds == labels).item() / len(preds))"
      ],
      "metadata": {
        "id": "COxUzQOYmFLY"
      },
      "execution_count": 38,
      "outputs": []
    },
    {
      "cell_type": "code",
      "source": [
        "accuracy(outputs, labels)"
      ],
      "metadata": {
        "colab": {
          "base_uri": "https://localhost:8080/"
        },
        "id": "6EELbQEymHCz",
        "outputId": "23ab555e-5836-4f36-dbd2-905bb82f0b80"
      },
      "execution_count": 39,
      "outputs": [
        {
          "output_type": "execute_result",
          "data": {
            "text/plain": [
              "tensor(0.0600)"
            ]
          },
          "metadata": {},
          "execution_count": 39
        }
      ]
    },
    {
      "cell_type": "code",
      "source": [
        "probs"
      ],
      "metadata": {
        "colab": {
          "base_uri": "https://localhost:8080/"
        },
        "id": "4eV6kiH9mJWe",
        "outputId": "34d709cb-0e88-40c4-c5fb-e96e6d1b14f6"
      },
      "execution_count": 40,
      "outputs": [
        {
          "output_type": "execute_result",
          "data": {
            "text/plain": [
              "tensor([[0.1235, 0.1181, 0.0961, 0.0972, 0.0779, 0.0929, 0.0933, 0.1032, 0.0776,\n",
              "         0.1203],\n",
              "        [0.1128, 0.0838, 0.0992, 0.1220, 0.0940, 0.0939, 0.0924, 0.1056, 0.0902,\n",
              "         0.1061],\n",
              "        [0.1011, 0.0881, 0.0942, 0.1213, 0.1051, 0.1152, 0.0889, 0.1081, 0.0781,\n",
              "         0.0999],\n",
              "        [0.1427, 0.0976, 0.0740, 0.1200, 0.0912, 0.1017, 0.0760, 0.1186, 0.0758,\n",
              "         0.1023],\n",
              "        [0.1120, 0.0852, 0.0933, 0.1382, 0.0776, 0.0956, 0.1048, 0.1040, 0.0664,\n",
              "         0.1229],\n",
              "        [0.1222, 0.0997, 0.0994, 0.1235, 0.0885, 0.0828, 0.0799, 0.1278, 0.0662,\n",
              "         0.1099],\n",
              "        [0.1632, 0.1096, 0.0837, 0.1229, 0.0705, 0.1062, 0.0770, 0.0886, 0.0694,\n",
              "         0.1089],\n",
              "        [0.1430, 0.1056, 0.0888, 0.1206, 0.0723, 0.0895, 0.0796, 0.1008, 0.0993,\n",
              "         0.1006],\n",
              "        [0.1129, 0.1119, 0.0864, 0.1003, 0.0777, 0.0781, 0.0913, 0.1146, 0.0878,\n",
              "         0.1389],\n",
              "        [0.1513, 0.1003, 0.1100, 0.1064, 0.0748, 0.0765, 0.0741, 0.0980, 0.0832,\n",
              "         0.1255],\n",
              "        [0.1265, 0.1204, 0.0772, 0.1644, 0.0653, 0.1042, 0.0684, 0.0954, 0.0825,\n",
              "         0.0958],\n",
              "        [0.1343, 0.0990, 0.1005, 0.0845, 0.0847, 0.0972, 0.0861, 0.0938, 0.0970,\n",
              "         0.1229],\n",
              "        [0.1505, 0.1184, 0.1062, 0.1036, 0.0826, 0.0800, 0.0874, 0.1027, 0.0589,\n",
              "         0.1096],\n",
              "        [0.1250, 0.0907, 0.0986, 0.0979, 0.1205, 0.1110, 0.0899, 0.0869, 0.0883,\n",
              "         0.0912],\n",
              "        [0.1140, 0.0929, 0.1007, 0.1275, 0.0847, 0.1221, 0.0790, 0.1063, 0.0895,\n",
              "         0.0832],\n",
              "        [0.1050, 0.1141, 0.0952, 0.1060, 0.0646, 0.1106, 0.1190, 0.0986, 0.0885,\n",
              "         0.0983],\n",
              "        [0.1019, 0.0912, 0.0991, 0.1238, 0.0876, 0.0942, 0.1094, 0.0945, 0.0883,\n",
              "         0.1101],\n",
              "        [0.0970, 0.0958, 0.0985, 0.1271, 0.1003, 0.1142, 0.1100, 0.0995, 0.0717,\n",
              "         0.0859],\n",
              "        [0.1582, 0.1186, 0.1106, 0.0719, 0.0564, 0.0934, 0.0686, 0.0984, 0.1178,\n",
              "         0.1060],\n",
              "        [0.1119, 0.1096, 0.0964, 0.1030, 0.0800, 0.0891, 0.1065, 0.0952, 0.0768,\n",
              "         0.1316],\n",
              "        [0.1435, 0.0978, 0.1043, 0.1098, 0.0717, 0.0833, 0.0896, 0.1173, 0.0829,\n",
              "         0.0997],\n",
              "        [0.1407, 0.0932, 0.1011, 0.1090, 0.0904, 0.0860, 0.0852, 0.1082, 0.0824,\n",
              "         0.1037],\n",
              "        [0.1432, 0.0821, 0.0865, 0.1072, 0.0799, 0.1062, 0.1020, 0.1038, 0.0861,\n",
              "         0.1030],\n",
              "        [0.1205, 0.0835, 0.0995, 0.1135, 0.0805, 0.1067, 0.0935, 0.1311, 0.0796,\n",
              "         0.0917],\n",
              "        [0.1100, 0.0854, 0.1018, 0.1269, 0.0732, 0.1194, 0.1130, 0.0949, 0.0785,\n",
              "         0.0969],\n",
              "        [0.1218, 0.1116, 0.0997, 0.1000, 0.0819, 0.0778, 0.1064, 0.0919, 0.0738,\n",
              "         0.1351],\n",
              "        [0.1361, 0.1129, 0.0898, 0.1046, 0.0648, 0.0798, 0.0911, 0.1119, 0.0812,\n",
              "         0.1279],\n",
              "        [0.1154, 0.1121, 0.0949, 0.0872, 0.0869, 0.0844, 0.0772, 0.1198, 0.1007,\n",
              "         0.1212],\n",
              "        [0.1021, 0.0786, 0.0921, 0.1115, 0.0800, 0.0879, 0.0885, 0.1446, 0.1055,\n",
              "         0.1092],\n",
              "        [0.1041, 0.0884, 0.1107, 0.1330, 0.0846, 0.0950, 0.1006, 0.0921, 0.0788,\n",
              "         0.1126],\n",
              "        [0.1095, 0.0997, 0.1129, 0.1129, 0.0720, 0.0892, 0.1091, 0.0869, 0.0833,\n",
              "         0.1245],\n",
              "        [0.1302, 0.0926, 0.0934, 0.1042, 0.0857, 0.0842, 0.0891, 0.1157, 0.0896,\n",
              "         0.1155],\n",
              "        [0.1369, 0.0926, 0.1076, 0.0992, 0.0840, 0.1139, 0.0856, 0.0990, 0.0989,\n",
              "         0.0824],\n",
              "        [0.0987, 0.1213, 0.1156, 0.1264, 0.0588, 0.0833, 0.0695, 0.1054, 0.1123,\n",
              "         0.1088],\n",
              "        [0.1379, 0.0950, 0.0785, 0.1200, 0.0767, 0.1012, 0.0912, 0.1080, 0.0819,\n",
              "         0.1096],\n",
              "        [0.1202, 0.1024, 0.1133, 0.1159, 0.0776, 0.0882, 0.0993, 0.0861, 0.0903,\n",
              "         0.1068],\n",
              "        [0.1267, 0.1080, 0.0967, 0.0855, 0.1261, 0.0951, 0.0827, 0.0942, 0.0861,\n",
              "         0.0989],\n",
              "        [0.1296, 0.0972, 0.1194, 0.0947, 0.0724, 0.0819, 0.0810, 0.1208, 0.1009,\n",
              "         0.1020],\n",
              "        [0.1520, 0.1186, 0.0765, 0.0914, 0.0916, 0.1010, 0.0736, 0.0928, 0.0748,\n",
              "         0.1278],\n",
              "        [0.1608, 0.1203, 0.1060, 0.0766, 0.0725, 0.0887, 0.0855, 0.0875, 0.1049,\n",
              "         0.0974],\n",
              "        [0.1515, 0.0970, 0.1032, 0.1127, 0.0819, 0.1042, 0.1042, 0.0843, 0.0635,\n",
              "         0.0974],\n",
              "        [0.1203, 0.1026, 0.0803, 0.1416, 0.0821, 0.1261, 0.0766, 0.1029, 0.0876,\n",
              "         0.0799],\n",
              "        [0.1046, 0.0851, 0.1056, 0.1368, 0.0798, 0.0940, 0.1047, 0.0924, 0.0826,\n",
              "         0.1144],\n",
              "        [0.0911, 0.1074, 0.1145, 0.1105, 0.0763, 0.0923, 0.0997, 0.1262, 0.0657,\n",
              "         0.1162],\n",
              "        [0.1302, 0.1147, 0.1071, 0.1281, 0.0751, 0.0817, 0.0897, 0.0866, 0.0691,\n",
              "         0.1178],\n",
              "        [0.1074, 0.0874, 0.1077, 0.1321, 0.0876, 0.0991, 0.1103, 0.0857, 0.0788,\n",
              "         0.1039],\n",
              "        [0.1046, 0.1189, 0.0908, 0.1025, 0.0875, 0.0942, 0.0934, 0.1065, 0.0712,\n",
              "         0.1304],\n",
              "        [0.1024, 0.1002, 0.0752, 0.1296, 0.0891, 0.1201, 0.0961, 0.1084, 0.0709,\n",
              "         0.1079],\n",
              "        [0.1518, 0.0973, 0.0791, 0.1012, 0.0771, 0.0929, 0.0837, 0.1062, 0.0910,\n",
              "         0.1197],\n",
              "        [0.1332, 0.0950, 0.0944, 0.1368, 0.0834, 0.1211, 0.0789, 0.0953, 0.0809,\n",
              "         0.0811],\n",
              "        [0.1158, 0.0945, 0.1141, 0.1280, 0.0767, 0.1011, 0.1008, 0.0866, 0.0803,\n",
              "         0.1022],\n",
              "        [0.1196, 0.1025, 0.0992, 0.1222, 0.0616, 0.0860, 0.0995, 0.1250, 0.0965,\n",
              "         0.0879],\n",
              "        [0.1227, 0.1049, 0.0830, 0.1024, 0.0894, 0.1267, 0.1008, 0.0748, 0.0976,\n",
              "         0.0977],\n",
              "        [0.1098, 0.0960, 0.1125, 0.1221, 0.0733, 0.0932, 0.1050, 0.0866, 0.0798,\n",
              "         0.1218],\n",
              "        [0.1382, 0.1092, 0.1128, 0.1059, 0.0916, 0.0745, 0.0783, 0.1183, 0.0672,\n",
              "         0.1040],\n",
              "        [0.1189, 0.1020, 0.0969, 0.1306, 0.0768, 0.0940, 0.0969, 0.0879, 0.0700,\n",
              "         0.1259],\n",
              "        [0.1143, 0.1125, 0.0909, 0.1134, 0.0723, 0.0878, 0.0880, 0.1134, 0.1016,\n",
              "         0.1057],\n",
              "        [0.1245, 0.1109, 0.1133, 0.1049, 0.0976, 0.0818, 0.0791, 0.1018, 0.0835,\n",
              "         0.1027],\n",
              "        [0.1506, 0.1335, 0.0897, 0.0889, 0.0672, 0.0824, 0.0834, 0.1057, 0.0645,\n",
              "         0.1340],\n",
              "        [0.1374, 0.1036, 0.1201, 0.0825, 0.0732, 0.0962, 0.0967, 0.1218, 0.0821,\n",
              "         0.0863],\n",
              "        [0.1423, 0.0920, 0.0864, 0.1187, 0.0793, 0.0840, 0.0808, 0.1129, 0.0898,\n",
              "         0.1139],\n",
              "        [0.1059, 0.1096, 0.1096, 0.0887, 0.0910, 0.0965, 0.0978, 0.1218, 0.0739,\n",
              "         0.1053],\n",
              "        [0.1284, 0.1071, 0.1012, 0.1121, 0.1032, 0.1203, 0.0859, 0.0813, 0.0713,\n",
              "         0.0893],\n",
              "        [0.1393, 0.0985, 0.1045, 0.0991, 0.1069, 0.1134, 0.0772, 0.0882, 0.0882,\n",
              "         0.0846],\n",
              "        [0.1218, 0.0945, 0.1235, 0.1001, 0.0874, 0.1070, 0.0809, 0.1077, 0.0894,\n",
              "         0.0876],\n",
              "        [0.1420, 0.0836, 0.0936, 0.1356, 0.0859, 0.1005, 0.0791, 0.0880, 0.0950,\n",
              "         0.0967],\n",
              "        [0.1485, 0.0893, 0.0927, 0.1128, 0.0687, 0.0915, 0.0925, 0.1212, 0.0797,\n",
              "         0.1032],\n",
              "        [0.1058, 0.1268, 0.0997, 0.1056, 0.0652, 0.0676, 0.0835, 0.1080, 0.1014,\n",
              "         0.1365],\n",
              "        [0.1167, 0.1132, 0.0925, 0.0997, 0.0808, 0.0876, 0.1079, 0.0981, 0.0727,\n",
              "         0.1308],\n",
              "        [0.1217, 0.0980, 0.0926, 0.1231, 0.0712, 0.1035, 0.0921, 0.0947, 0.0843,\n",
              "         0.1187],\n",
              "        [0.1372, 0.1009, 0.1003, 0.1006, 0.0716, 0.1183, 0.0674, 0.1124, 0.0983,\n",
              "         0.0931],\n",
              "        [0.1034, 0.1122, 0.0978, 0.1054, 0.0790, 0.0919, 0.1039, 0.0913, 0.0846,\n",
              "         0.1306],\n",
              "        [0.1340, 0.1036, 0.0886, 0.1026, 0.0976, 0.1018, 0.0871, 0.0825, 0.0967,\n",
              "         0.1054],\n",
              "        [0.1570, 0.0701, 0.0931, 0.1297, 0.0766, 0.1215, 0.0868, 0.0827, 0.1025,\n",
              "         0.0800],\n",
              "        [0.1084, 0.0836, 0.1168, 0.1000, 0.1139, 0.0858, 0.1020, 0.0833, 0.0811,\n",
              "         0.1251],\n",
              "        [0.1246, 0.0890, 0.1316, 0.0999, 0.0809, 0.1077, 0.0825, 0.0909, 0.0908,\n",
              "         0.1021],\n",
              "        [0.1068, 0.0891, 0.1144, 0.1031, 0.0928, 0.1115, 0.0941, 0.0883, 0.1170,\n",
              "         0.0829],\n",
              "        [0.1369, 0.0815, 0.1136, 0.1018, 0.0738, 0.1147, 0.0809, 0.0840, 0.0989,\n",
              "         0.1140],\n",
              "        [0.1112, 0.1016, 0.1048, 0.0958, 0.0875, 0.1035, 0.0969, 0.0890, 0.0993,\n",
              "         0.1105],\n",
              "        [0.1330, 0.0999, 0.0807, 0.1162, 0.0950, 0.1245, 0.0744, 0.1084, 0.0850,\n",
              "         0.0831],\n",
              "        [0.1792, 0.0825, 0.1034, 0.1110, 0.0767, 0.0786, 0.0819, 0.1119, 0.0596,\n",
              "         0.1151],\n",
              "        [0.1341, 0.0918, 0.0973, 0.1394, 0.0701, 0.1037, 0.0827, 0.0916, 0.0821,\n",
              "         0.1071],\n",
              "        [0.1136, 0.1174, 0.1051, 0.1141, 0.0718, 0.1161, 0.0895, 0.0932, 0.0788,\n",
              "         0.1002],\n",
              "        [0.1454, 0.1122, 0.0826, 0.0975, 0.0650, 0.0744, 0.0896, 0.1207, 0.0901,\n",
              "         0.1225],\n",
              "        [0.1232, 0.0849, 0.1107, 0.1059, 0.0843, 0.1268, 0.0807, 0.0909, 0.1109,\n",
              "         0.0817],\n",
              "        [0.1243, 0.1291, 0.1232, 0.0863, 0.0961, 0.0978, 0.0687, 0.0838, 0.0944,\n",
              "         0.0962],\n",
              "        [0.1591, 0.0930, 0.1337, 0.0785, 0.0819, 0.0985, 0.0749, 0.0911, 0.1075,\n",
              "         0.0817],\n",
              "        [0.1214, 0.0975, 0.1342, 0.0873, 0.0859, 0.0810, 0.0984, 0.0868, 0.0661,\n",
              "         0.1415],\n",
              "        [0.1224, 0.0924, 0.1111, 0.1013, 0.0868, 0.0717, 0.0807, 0.1030, 0.0918,\n",
              "         0.1388],\n",
              "        [0.1190, 0.1030, 0.0982, 0.1185, 0.0928, 0.0966, 0.0897, 0.0990, 0.0914,\n",
              "         0.0917],\n",
              "        [0.1447, 0.0999, 0.1086, 0.1025, 0.0802, 0.1044, 0.0800, 0.0962, 0.0964,\n",
              "         0.0871],\n",
              "        [0.1295, 0.0806, 0.0731, 0.1393, 0.0948, 0.1262, 0.0853, 0.1091, 0.0737,\n",
              "         0.0883],\n",
              "        [0.1238, 0.1062, 0.1050, 0.1108, 0.0766, 0.0946, 0.1060, 0.0840, 0.0785,\n",
              "         0.1144],\n",
              "        [0.1328, 0.1066, 0.1049, 0.0859, 0.0754, 0.0859, 0.0879, 0.0903, 0.1093,\n",
              "         0.1210],\n",
              "        [0.1380, 0.0840, 0.1144, 0.0971, 0.0986, 0.1056, 0.0809, 0.1095, 0.0879,\n",
              "         0.0839],\n",
              "        [0.1377, 0.0996, 0.0957, 0.1048, 0.0749, 0.0975, 0.0854, 0.1084, 0.1031,\n",
              "         0.0930],\n",
              "        [0.1563, 0.1187, 0.1028, 0.0936, 0.0910, 0.0938, 0.0760, 0.1082, 0.0702,\n",
              "         0.0895],\n",
              "        [0.1568, 0.0999, 0.1222, 0.1209, 0.0831, 0.1067, 0.0536, 0.0854, 0.0885,\n",
              "         0.0828],\n",
              "        [0.1248, 0.1009, 0.1021, 0.1303, 0.0771, 0.1070, 0.0916, 0.0814, 0.0891,\n",
              "         0.0957],\n",
              "        [0.1226, 0.0995, 0.0854, 0.1059, 0.0812, 0.1065, 0.0975, 0.1051, 0.0891,\n",
              "         0.1074]], grad_fn=<SoftmaxBackward0>)"
            ]
          },
          "metadata": {},
          "execution_count": 40
        }
      ]
    },
    {
      "cell_type": "code",
      "source": [
        "outputs"
      ],
      "metadata": {
        "colab": {
          "base_uri": "https://localhost:8080/"
        },
        "id": "jF88mWGrmK9t",
        "outputId": "1abe277a-8d25-4cb0-8489-f8fb910ebd9c"
      },
      "execution_count": 41,
      "outputs": [
        {
          "output_type": "execute_result",
          "data": {
            "text/plain": [
              "tensor([[ 2.8080e-01,  2.3659e-01,  3.0535e-02,  4.1522e-02, -1.7943e-01,\n",
              "         -4.1488e-03,  2.5126e-04,  1.0195e-01, -1.8421e-01,  2.5444e-01],\n",
              "        [ 1.6762e-01, -1.2984e-01,  3.8621e-02,  2.4603e-01, -1.4693e-02,\n",
              "         -1.5720e-02, -3.1680e-02,  1.0176e-01, -5.6181e-02,  1.0680e-01],\n",
              "        [ 2.3967e-02, -1.1357e-01, -4.6286e-02,  2.0674e-01,  6.3338e-02,\n",
              "          1.5469e-01, -1.0435e-01,  9.1254e-02, -2.3445e-01,  1.2402e-02],\n",
              "        [ 3.4295e-01, -3.7039e-02, -3.1411e-01,  1.6964e-01, -1.0553e-01,\n",
              "          4.2601e-03, -2.8766e-01,  1.5738e-01, -2.8946e-01,  9.9798e-03],\n",
              "        [ 1.5592e-01, -1.1740e-01, -2.7153e-02,  3.6620e-01, -2.1062e-01,\n",
              "         -2.9330e-03,  8.9271e-02,  8.1509e-02, -3.6756e-01,  2.4911e-01],\n",
              "        [ 2.1989e-01,  1.5691e-02,  1.3184e-02,  2.3023e-01, -1.0276e-01,\n",
              "         -1.6977e-01, -2.0555e-01,  2.6448e-01, -3.9264e-01,  1.1383e-01],\n",
              "        [ 5.9979e-01,  2.0106e-01, -6.8055e-02,  3.1627e-01, -2.3991e-01,\n",
              "          1.6943e-01, -1.5111e-01, -1.1114e-02, -2.5600e-01,  1.9483e-01],\n",
              "        [ 3.4787e-01,  4.5127e-02, -1.2863e-01,  1.7795e-01, -3.3439e-01,\n",
              "         -1.2102e-01, -2.3792e-01, -1.5042e-03, -1.6115e-02, -3.9715e-03],\n",
              "        [ 1.6124e-01,  1.5299e-01, -1.0573e-01,  4.3329e-02, -2.1170e-01,\n",
              "         -2.0672e-01, -5.0803e-02,  1.7632e-01, -8.9806e-02,  3.6911e-01],\n",
              "        [ 4.5106e-01,  3.9966e-02,  1.3233e-01,  9.9552e-02, -2.5376e-01,\n",
              "         -2.3094e-01, -2.6241e-01,  1.7377e-02, -1.4717e-01,  2.6444e-01],\n",
              "        [ 3.3361e-01,  2.8391e-01, -1.6059e-01,  5.9553e-01, -3.2697e-01,\n",
              "          1.3927e-01, -2.8102e-01,  5.1848e-02, -9.3826e-02,  5.5448e-02],\n",
              "        [ 3.1612e-01,  1.0892e-02,  2.5967e-02, -1.4689e-01, -1.4488e-01,\n",
              "         -7.1115e-03, -1.2822e-01, -4.2573e-02, -9.3201e-03,  2.2766e-01],\n",
              "        [ 5.4860e-01,  3.0892e-01,  1.9989e-01,  1.7537e-01, -5.0864e-02,\n",
              "         -8.3651e-02,  4.4715e-03,  1.6639e-01, -3.8899e-01,  2.3139e-01],\n",
              "        [ 2.5318e-01, -6.7403e-02,  1.5778e-02,  8.4497e-03,  2.1682e-01,\n",
              "          1.3441e-01, -7.7003e-02, -1.1003e-01, -9.4751e-02, -6.1857e-02],\n",
              "        [ 1.4128e-01, -6.3068e-02,  1.7707e-02,  2.5343e-01, -1.5597e-01,\n",
              "          2.1028e-01, -2.2494e-01,  7.1024e-02, -1.0046e-01, -1.7314e-01],\n",
              "        [ 7.9485e-02,  1.6236e-01, -1.9010e-02,  8.9257e-02, -4.0593e-01,\n",
              "          1.3143e-01,  2.0447e-01,  1.6441e-02, -9.1189e-02,  1.3834e-02],\n",
              "        [ 8.2735e-02, -2.8230e-02,  5.4107e-02,  2.7707e-01, -6.8714e-02,\n",
              "          3.3341e-03,  1.5313e-01,  6.7297e-03, -6.1376e-02,  1.5992e-01],\n",
              "        [-3.3695e-02, -4.6040e-02, -1.8434e-02,  2.3653e-01, -8.8260e-04,\n",
              "          1.2945e-01,  9.1823e-02, -8.5411e-03, -3.3577e-01, -1.5555e-01],\n",
              "        [ 5.4120e-01,  2.5302e-01,  1.8350e-01, -2.4677e-01, -4.8946e-01,\n",
              "          1.4616e-02, -2.9419e-01,  6.6532e-02,  2.4643e-01,  1.4085e-01],\n",
              "        [ 1.5679e-01,  1.3594e-01,  7.3359e-03,  7.4029e-02, -1.7873e-01,\n",
              "         -7.1128e-02,  1.0723e-01, -5.1774e-03, -2.1930e-01,  3.1880e-01],\n",
              "        [ 3.5611e-01, -2.7369e-02,  3.7132e-02,  8.7877e-02, -3.3786e-01,\n",
              "         -1.8808e-01, -1.1463e-01,  1.5392e-01, -1.9242e-01, -8.1254e-03],\n",
              "        [ 3.8998e-01, -2.1555e-02,  5.9733e-02,  1.3455e-01, -5.2862e-02,\n",
              "         -1.0190e-01, -1.1117e-01,  1.2736e-01, -1.4572e-01,  8.4941e-02],\n",
              "        [ 3.8235e-01, -1.7407e-01, -1.2214e-01,  9.2745e-02, -2.0118e-01,\n",
              "          8.3057e-02,  4.3544e-02,  6.0945e-02, -1.2608e-01,  5.2466e-02],\n",
              "        [ 1.5499e-01, -2.1097e-01, -3.6576e-02,  9.5131e-02, -2.4776e-01,\n",
              "          3.3591e-02, -9.8316e-02,  2.3985e-01, -2.5969e-01, -1.1752e-01],\n",
              "        [ 1.5098e-01, -1.0259e-01,  7.3042e-02,  2.9371e-01, -2.5676e-01,\n",
              "          2.3308e-01,  1.7797e-01,  3.1364e-03, -1.8634e-01,  2.3837e-02],\n",
              "        [ 2.5119e-01,  1.6381e-01,  5.1663e-02,  5.4273e-02, -1.4535e-01,\n",
              "         -1.9650e-01,  1.1622e-01, -3.0173e-02, -2.4953e-01,  3.5495e-01],\n",
              "        [ 3.6546e-01,  1.7875e-01, -4.9712e-02,  1.0291e-01, -3.7674e-01,\n",
              "         -1.6849e-01, -3.6177e-02,  1.6979e-01, -1.5122e-01,  3.0346e-01],\n",
              "        [ 1.9498e-01,  1.6570e-01, -6.4363e-04, -8.5178e-02, -8.9053e-02,\n",
              "         -1.1798e-01, -2.0733e-01,  2.3220e-01,  5.8539e-02,  2.4370e-01],\n",
              "        [ 1.0396e-01, -1.5849e-01,  3.8678e-04,  1.9156e-01, -1.4056e-01,\n",
              "         -4.6222e-02, -3.9902e-02,  4.5162e-01,  1.3640e-01,  1.7065e-01],\n",
              "        [ 1.1167e-01, -5.1573e-02,  1.7339e-01,  3.5665e-01, -9.5786e-02,\n",
              "          2.0057e-02,  7.7576e-02, -1.0288e-02, -1.6650e-01,  1.9028e-01],\n",
              "        [ 1.7503e-01,  8.0765e-02,  2.0586e-01,  2.0519e-01, -2.4429e-01,\n",
              "         -3.0097e-02,  1.7140e-01, -5.6381e-02, -9.9187e-02,  3.0341e-01],\n",
              "        [ 2.8925e-01, -5.1801e-02, -4.3350e-02,  6.6126e-02, -1.2921e-01,\n",
              "         -1.4665e-01, -9.0071e-02,  1.7107e-01, -8.4748e-02,  1.6988e-01],\n",
              "        [ 3.1410e-01, -7.6495e-02,  7.3551e-02, -7.9262e-03, -1.7420e-01,\n",
              "          1.3020e-01, -1.5561e-01, -1.0128e-02, -1.0802e-02, -1.9340e-01],\n",
              "        [ 1.8647e-02,  2.2392e-01,  1.7603e-01,  2.6534e-01, -5.0030e-01,\n",
              "         -1.5149e-01, -3.3320e-01,  8.4214e-02,  1.4689e-01,  1.1564e-01],\n",
              "        [ 3.7758e-01,  4.2945e-03, -1.8581e-01,  2.3832e-01, -2.0940e-01,\n",
              "          6.7875e-02, -3.5981e-02,  1.3321e-01, -1.4386e-01,  1.4800e-01],\n",
              "        [ 2.7066e-01,  1.1054e-01,  2.1153e-01,  2.3438e-01, -1.6693e-01,\n",
              "         -3.9212e-02,  7.9562e-02, -6.3445e-02, -1.5283e-02,  1.5244e-01],\n",
              "        [ 1.6578e-01,  6.3430e-03, -1.0415e-01, -2.2820e-01,  1.6116e-01,\n",
              "         -1.2140e-01, -2.6105e-01, -1.3124e-01, -2.2045e-01, -8.2207e-02],\n",
              "        [ 3.1777e-01,  3.0663e-02,  2.3597e-01,  4.7788e-03, -2.6374e-01,\n",
              "         -1.4100e-01, -1.5231e-01,  2.4795e-01,  6.8170e-02,  7.8298e-02],\n",
              "        [ 5.0162e-01,  2.5340e-01, -1.8531e-01, -6.6145e-03, -4.4879e-03,\n",
              "          9.2537e-02, -2.2421e-01,  8.3923e-03, -2.0752e-01,  3.2823e-01],\n",
              "        [ 5.0779e-01,  2.1768e-01,  9.0887e-02, -2.3413e-01, -2.8809e-01,\n",
              "         -8.6659e-02, -1.2406e-01, -1.0095e-01,  8.0691e-02,  6.7331e-03],\n",
              "        [ 4.9764e-01,  5.1746e-02,  1.1397e-01,  2.0167e-01, -1.1703e-01,\n",
              "          1.2288e-01,  1.2308e-01, -8.8135e-02, -3.7163e-01,  5.6323e-02],\n",
              "        [ 1.9273e-01,  3.3744e-02, -2.1170e-01,  3.5564e-01, -1.8884e-01,\n",
              "          2.4011e-01, -2.5888e-01,  3.6564e-02, -1.2438e-01, -2.1688e-01],\n",
              "        [ 1.2276e-01, -8.3332e-02,  1.3244e-01,  3.9170e-01, -1.4780e-01,\n",
              "          1.6857e-02,  1.2449e-01, -3.9032e-04, -1.1281e-01,  2.1259e-01],\n",
              "        [ 1.7160e-02,  1.8154e-01,  2.4563e-01,  2.1028e-01, -1.5970e-01,\n",
              "          3.0346e-02,  1.0750e-01,  3.4337e-01, -3.0979e-01,  2.6087e-01],\n",
              "        [ 3.4447e-01,  2.1752e-01,  1.4874e-01,  3.2788e-01, -2.0594e-01,\n",
              "         -1.2098e-01, -2.8089e-02, -6.3670e-02, -2.8933e-01,  2.4423e-01],\n",
              "        [ 1.2027e-01, -8.5514e-02,  1.2302e-01,  3.2772e-01, -8.2823e-02,\n",
              "          4.0512e-02,  1.4738e-01, -1.0541e-01, -1.8890e-01,  8.7096e-02],\n",
              "        [ 4.8738e-02,  1.7743e-01, -9.2809e-02,  2.8401e-02, -1.2938e-01,\n",
              "         -5.5489e-02, -6.4223e-02,  6.6678e-02, -3.3619e-01,  2.6974e-01],\n",
              "        [ 7.0822e-02,  4.9132e-02, -2.3878e-01,  3.0601e-01, -6.8767e-02,\n",
              "          2.3014e-01,  6.9234e-03,  1.2764e-01, -2.9747e-01,  1.2288e-01],\n",
              "        [ 4.7820e-01,  3.3780e-02, -1.7296e-01,  7.3441e-02, -1.9964e-01,\n",
              "         -1.2827e-02, -1.1720e-01,  1.2140e-01, -3.3195e-02,  2.4108e-01],\n",
              "        [ 2.7680e-01, -6.0586e-02, -6.7558e-02,  3.0402e-01, -1.9132e-01,\n",
              "          1.8194e-01, -2.4694e-01, -5.7820e-02, -2.2167e-01, -2.1934e-01],\n",
              "        [ 2.3108e-01,  2.8110e-02,  2.1668e-01,  3.3091e-01, -1.8131e-01,\n",
              "          9.5425e-02,  9.2862e-02, -5.9999e-02, -1.3546e-01,  1.0592e-01],\n",
              "        [ 2.5490e-01,  1.0012e-01,  6.7894e-02,  2.7602e-01, -4.0908e-01,\n",
              "         -7.4760e-02,  7.0887e-02,  2.9881e-01,  3.9619e-02, -5.3543e-02],\n",
              "        [ 9.2925e-02, -6.4005e-02, -2.9802e-01, -8.8260e-02, -2.2347e-01,\n",
              "          1.2461e-01, -1.0379e-01, -4.0142e-01, -1.3645e-01, -1.3472e-01],\n",
              "        [ 1.6780e-01,  3.3402e-02,  1.9222e-01,  2.7395e-01, -2.3652e-01,\n",
              "          3.8013e-03,  1.2357e-01, -6.8880e-02, -1.5098e-01,  2.7192e-01],\n",
              "        [ 4.5548e-01,  2.1924e-01,  2.5207e-01,  1.8925e-01,  4.3494e-02,\n",
              "         -1.6292e-01, -1.1260e-01,  2.9975e-01, -2.6529e-01,  1.7071e-01],\n",
              "        [ 2.2564e-01,  7.1710e-02,  2.1196e-02,  3.1949e-01, -2.1136e-01,\n",
              "         -9.7122e-03,  2.0810e-02, -7.6639e-02, -3.0445e-01,  2.8289e-01],\n",
              "        [ 1.3745e-01,  1.2212e-01, -9.1949e-02,  1.2983e-01, -3.2048e-01,\n",
              "         -1.2561e-01, -1.2356e-01,  1.2996e-01,  1.9804e-02,  5.9445e-02],\n",
              "        [ 2.9737e-01,  1.8164e-01,  2.0333e-01,  1.2628e-01,  5.4606e-02,\n",
              "         -1.2247e-01, -1.5638e-01,  9.5818e-02, -1.0242e-01,  1.0485e-01],\n",
              "        [ 5.8161e-01,  4.6101e-01,  6.3140e-02,  5.4760e-02, -2.2561e-01,\n",
              "         -2.1037e-02, -9.1982e-03,  2.2801e-01, -2.6636e-01,  4.6507e-01],\n",
              "        [ 2.7927e-01, -3.4807e-03,  1.4416e-01, -2.3153e-01, -3.5137e-01,\n",
              "         -7.7121e-02, -7.2333e-02,  1.5879e-01, -2.3548e-01, -1.8558e-01],\n",
              "        [ 3.3889e-01, -9.7079e-02, -1.6018e-01,  1.5789e-01, -2.4561e-01,\n",
              "         -1.8851e-01, -2.2712e-01,  1.0731e-01, -1.2153e-01,  1.1639e-01],\n",
              "        [ 7.3848e-02,  1.0798e-01,  1.0862e-01, -1.0368e-01, -7.8270e-02,\n",
              "         -1.9605e-02, -6.2336e-03,  2.1365e-01, -2.8591e-01,  6.8477e-02],\n",
              "        [ 1.6372e-01, -1.8101e-02, -7.4154e-02,  2.7649e-02, -5.5222e-02,\n",
              "          9.8483e-02, -2.3842e-01, -2.9302e-01, -4.2513e-01, -1.9929e-01],\n",
              "        [ 3.0657e-01, -4.0244e-02,  1.9578e-02, -3.3867e-02,  4.1885e-02,\n",
              "          1.0097e-01, -2.8304e-01, -1.4987e-01, -1.5064e-01, -1.9171e-01],\n",
              "        [ 1.7794e-01, -7.5906e-02,  1.9116e-01, -1.8164e-02, -1.5480e-01,\n",
              "          4.8149e-02, -2.3118e-01,  5.4196e-02, -1.3127e-01, -1.5177e-01],\n",
              "        [ 3.9704e-01, -1.3306e-01, -1.9903e-02,  3.5104e-01, -1.0521e-01,\n",
              "          5.1362e-02, -1.8787e-01, -8.1269e-02, -4.8187e-03,  1.2932e-02],\n",
              "        [ 4.8083e-01, -2.7067e-02,  9.4829e-03,  2.0630e-01, -2.8906e-01,\n",
              "         -3.4814e-03,  7.3649e-03,  2.7780e-01, -1.4151e-01,  1.1736e-01],\n",
              "        [ 5.5583e-02,  2.3707e-01, -4.1857e-03,  5.3816e-02, -4.2864e-01,\n",
              "         -3.9199e-01, -1.8162e-01,  7.6369e-02,  1.3033e-02,  3.1018e-01],\n",
              "        [ 2.0800e-01,  1.7760e-01, -2.4370e-02,  5.0058e-02, -1.6025e-01,\n",
              "         -7.8870e-02,  1.2952e-01,  3.4329e-02, -2.6498e-01,  3.2153e-01],\n",
              "        [ 2.4172e-01,  2.5665e-02, -3.0826e-02,  2.5392e-01, -2.9428e-01,\n",
              "          8.0413e-02, -3.6511e-02, -8.4899e-03, -1.2473e-01,  2.1693e-01],\n",
              "        [ 3.8118e-01,  7.3792e-02,  6.7903e-02,  7.0198e-02, -2.6970e-01,\n",
              "          2.3233e-01, -3.2987e-01,  1.8122e-01,  4.7086e-02, -7.3834e-03],\n",
              "        [ 7.8790e-02,  1.5991e-01,  2.3466e-02,  9.7469e-02, -1.9097e-01,\n",
              "         -3.9356e-02,  8.3731e-02, -4.6275e-02, -1.2202e-01,  3.1210e-01],\n",
              "        [ 3.5760e-01,  1.0042e-01, -5.6613e-02,  9.0331e-02,  4.0545e-02,\n",
              "          8.2497e-02, -7.3402e-02, -1.2826e-01,  3.1125e-02,  1.1732e-01],\n",
              "        [ 5.4664e-01, -2.6068e-01,  2.4062e-02,  3.5546e-01, -1.7157e-01,\n",
              "          2.8986e-01, -4.6552e-02, -9.4649e-02,  1.2007e-01, -1.2762e-01],\n",
              "        [ 1.0149e-01, -1.5881e-01,  1.7565e-01,  2.0133e-02,  1.5047e-01,\n",
              "         -1.3219e-01,  4.0673e-02, -1.6189e-01, -1.8832e-01,  2.4426e-01],\n",
              "        [ 3.0829e-01, -2.8599e-02,  3.6242e-01,  8.6693e-02, -1.2356e-01,\n",
              "          1.6231e-01, -1.0396e-01, -7.5762e-03, -8.5602e-03,  1.0902e-01],\n",
              "        [ 3.3758e-02, -1.4743e-01,  1.0264e-01, -1.6305e-03, -1.0676e-01,\n",
              "          7.6350e-02, -9.3095e-02, -1.5698e-01,  1.2515e-01, -2.1945e-01],\n",
              "        [ 3.8761e-01, -1.3140e-01,  2.0071e-01,  9.1555e-02, -2.2961e-01,\n",
              "          2.1032e-01, -1.3846e-01, -1.0119e-01,  6.2304e-02,  2.0489e-01],\n",
              "        [ 1.1732e-01,  2.7044e-02,  5.8073e-02, -3.1646e-02, -1.2248e-01,\n",
              "          4.5533e-02, -2.0083e-02, -1.0475e-01,  4.5687e-03,  1.1095e-01],\n",
              "        [ 2.9102e-01,  4.9509e-03, -2.0814e-01,  1.5629e-01, -4.4569e-02,\n",
              "          2.2504e-01, -2.8997e-01,  8.6415e-02, -1.5659e-01, -1.7920e-01],\n",
              "        [ 6.9628e-01, -7.9396e-02,  1.4664e-01,  2.1719e-01, -1.5247e-01,\n",
              "         -1.2803e-01, -8.7012e-02,  2.2516e-01, -4.0465e-01,  2.5368e-01],\n",
              "        [ 3.1697e-01, -6.1819e-02, -3.4857e-03,  3.5572e-01, -3.3143e-01,\n",
              "          5.9401e-02, -1.6624e-01, -6.4185e-02, -1.7329e-01,  9.1956e-02],\n",
              "        [ 1.8784e-01,  2.2068e-01,  1.1042e-01,  1.9229e-01, -2.7059e-01,\n",
              "          2.0965e-01, -5.1171e-02, -9.7911e-03, -1.7760e-01,  6.2653e-02],\n",
              "        [ 4.3215e-01,  1.7230e-01, -1.3363e-01,  3.2244e-02, -3.7286e-01,\n",
              "         -2.3829e-01, -5.2298e-02,  2.4563e-01, -4.6426e-02,  2.6088e-01],\n",
              "        [ 2.4924e-01, -1.2280e-01,  1.4234e-01,  9.8209e-02, -1.3033e-01,\n",
              "          2.7849e-01, -1.7322e-01, -5.4998e-02,  1.4382e-01, -1.6173e-01],\n",
              "        [ 2.0596e-01,  2.4450e-01,  1.9753e-01, -1.5829e-01, -5.1036e-02,\n",
              "         -3.3008e-02, -3.8659e-01, -1.8769e-01, -6.8511e-02, -5.0055e-02],\n",
              "        [ 4.7878e-01, -5.8038e-02,  3.0490e-01, -2.2762e-01, -1.8608e-01,\n",
              "         -7.8969e-04, -2.7477e-01, -7.8755e-02,  8.6514e-02, -1.8842e-01],\n",
              "        [ 2.6974e-01,  5.0529e-02,  3.7032e-01, -6.0043e-02, -7.6071e-02,\n",
              "         -1.3511e-01,  5.9901e-02, -6.5215e-02, -3.3790e-01,  4.2283e-01],\n",
              "        [ 2.1113e-01, -7.0776e-02,  1.1436e-01,  2.1137e-02, -1.3334e-01,\n",
              "         -3.2406e-01, -2.0517e-01,  3.7976e-02, -7.6591e-02,  3.3660e-01],\n",
              "        [ 1.3413e-01, -1.0292e-02, -5.7828e-02,  1.2987e-01, -1.1482e-01,\n",
              "         -7.4928e-02, -1.4900e-01, -4.9780e-02, -1.2978e-01, -1.2631e-01],\n",
              "        [ 3.2427e-01, -4.5835e-02,  3.7510e-02, -2.0342e-02, -2.6532e-01,\n",
              "         -2.1823e-03, -2.6767e-01, -8.3952e-02, -8.1236e-02, -1.8290e-01],\n",
              "        [ 2.4539e-01, -2.2900e-01, -3.2560e-01,  3.1828e-01, -6.5970e-02,\n",
              "          2.2025e-01, -1.7134e-01,  7.4688e-02, -3.1769e-01, -1.3715e-01],\n",
              "        [ 2.6973e-01,  1.1639e-01,  1.0518e-01,  1.5913e-01, -2.0972e-01,\n",
              "          8.5003e-04,  1.1414e-01, -1.1843e-01, -1.8531e-01,  1.9060e-01],\n",
              "        [ 3.4922e-01,  1.2970e-01,  1.1396e-01, -8.6471e-02, -2.1644e-01,\n",
              "         -8.5733e-02, -6.2615e-02, -3.6752e-02,  1.5437e-01,  2.5666e-01],\n",
              "        [ 2.7420e-01, -2.2212e-01,  8.6946e-02, -7.6732e-02, -6.1509e-02,\n",
              "          6.6731e-03, -2.6005e-01,  4.3300e-02, -1.7659e-01, -2.2357e-01],\n",
              "        [ 3.4702e-01,  2.2981e-02, -1.6918e-02,  7.3874e-02, -2.6202e-01,\n",
              "          1.9593e-03, -1.3082e-01,  1.0775e-01,  5.8064e-02, -4.5135e-02],\n",
              "        [ 4.7580e-01,  2.0002e-01,  5.6524e-02, -3.7149e-02, -6.5166e-02,\n",
              "         -3.5395e-02, -2.4491e-01,  1.0765e-01, -3.2545e-01, -8.2450e-02],\n",
              "        [ 4.8596e-01,  3.5163e-02,  2.3673e-01,  2.2602e-01, -1.4931e-01,\n",
              "          1.0085e-01, -5.8728e-01, -1.2222e-01, -8.6208e-02, -1.5244e-01],\n",
              "        [ 2.7548e-01,  6.2511e-02,  7.4258e-02,  3.1863e-01, -2.0678e-01,\n",
              "          1.2153e-01, -3.3768e-02, -1.5232e-01, -6.1205e-02,  9.7683e-03],\n",
              "        [ 3.0629e-01,  9.7196e-02, -5.5565e-02,  1.5979e-01, -1.0557e-01,\n",
              "          1.6528e-01,  7.6975e-02,  1.5288e-01, -1.3030e-02,  1.7378e-01]],\n",
              "       grad_fn=<AddmmBackward0>)"
            ]
          },
          "metadata": {},
          "execution_count": 41
        }
      ]
    },
    {
      "cell_type": "code",
      "source": [
        "loss_fn = F.cross_entropy"
      ],
      "metadata": {
        "id": "mbJqmGK9mODY"
      },
      "execution_count": 42,
      "outputs": []
    },
    {
      "cell_type": "code",
      "source": [
        "# Loss for current batch of data\n",
        "loss = loss_fn(outputs, labels)\n",
        "print(loss)"
      ],
      "metadata": {
        "colab": {
          "base_uri": "https://localhost:8080/"
        },
        "id": "OB3NxONZmP5C",
        "outputId": "62702399-d23f-43a4-9a57-d3c6f9eedf2f"
      },
      "execution_count": 43,
      "outputs": [
        {
          "output_type": "stream",
          "name": "stdout",
          "text": [
            "tensor(2.3286, grad_fn=<NllLossBackward0>)\n"
          ]
        }
      ]
    },
    {
      "cell_type": "code",
      "source": [
        "def fit(epochs, lr, model, train_loader, val_loader, opt_func=torch.optim.SGD):\n",
        "    optimizer = opt_func(model.parameters(), lr)\n",
        "    history = [] # for recording epoch-wise results\n",
        "    \n",
        "    for epoch in range(epochs):\n",
        "        \n",
        "        # Training Phase \n",
        "        for batch in train_loader:\n",
        "            loss = model.training_step(batch)\n",
        "            loss.backward()\n",
        "            optimizer.step()\n",
        "            optimizer.zero_grad()\n",
        "        \n",
        "        # Validation phase\n",
        "        result = evaluate(model, val_loader)\n",
        "        model.epoch_end(epoch, result)\n",
        "        history.append(result)\n",
        "\n",
        "    return history"
      ],
      "metadata": {
        "id": "MDrxFF9AmRyN"
      },
      "execution_count": 44,
      "outputs": []
    },
    {
      "cell_type": "code",
      "source": [
        "def evaluate(model, val_loader):\n",
        "    outputs = [model.validation_step(batch) for batch in val_loader]\n",
        "    return model.validation_epoch_end(outputs)"
      ],
      "metadata": {
        "id": "yu7E4M_YmUWg"
      },
      "execution_count": 45,
      "outputs": []
    },
    {
      "cell_type": "code",
      "source": [
        "class MnistModel(nn.Module):\n",
        "    def __init__(self):\n",
        "        super().__init__()\n",
        "        self.linear = nn.Linear(input_size, num_classes)\n",
        "        \n",
        "    def forward(self, xb):\n",
        "        xb = xb.reshape(-1, 784)\n",
        "        out = self.linear(xb)\n",
        "        return out\n",
        "    \n",
        "    def training_step(self, batch):\n",
        "        images, labels = batch \n",
        "        out = self(images)                  # Generate predictions\n",
        "        loss = F.cross_entropy(out, labels) # Calculate loss\n",
        "        return loss\n",
        "    \n",
        "    def validation_step(self, batch):\n",
        "        images, labels = batch \n",
        "        out = self(images)                    # Generate predictions\n",
        "        loss = F.cross_entropy(out, labels)   # Calculate loss\n",
        "        acc = accuracy(out, labels)           # Calculate accuracy\n",
        "        return {'val_loss': loss, 'val_acc': acc}\n",
        "        \n",
        "    def validation_epoch_end(self, outputs):\n",
        "        batch_losses = [x['val_loss'] for x in outputs]\n",
        "        epoch_loss = torch.stack(batch_losses).mean()   # Combine losses\n",
        "        batch_accs = [x['val_acc'] for x in outputs]\n",
        "        epoch_acc = torch.stack(batch_accs).mean()      # Combine accuracies\n",
        "        return {'val_loss': epoch_loss.item(), 'val_acc': epoch_acc.item()}\n",
        "    \n",
        "    def epoch_end(self, epoch, result):\n",
        "        print(\"Epoch [{}], val_loss: {:.4f}, val_acc: {:.4f}\".format(epoch, result['val_loss'], result['val_acc']))\n",
        "    \n",
        "model = MnistModel()"
      ],
      "metadata": {
        "id": "F8GmwHDwmnfH"
      },
      "execution_count": 46,
      "outputs": []
    },
    {
      "cell_type": "code",
      "source": [
        "result0 = evaluate(model, val_loader)\n",
        "result0"
      ],
      "metadata": {
        "colab": {
          "base_uri": "https://localhost:8080/"
        },
        "id": "5Ak0pezxmpv7",
        "outputId": "916ee0ed-8223-491e-d270-680a4364b43a"
      },
      "execution_count": 47,
      "outputs": [
        {
          "output_type": "execute_result",
          "data": {
            "text/plain": [
              "{'val_acc': 0.11558333039283752, 'val_loss': 2.3251264095306396}"
            ]
          },
          "metadata": {},
          "execution_count": 47
        }
      ]
    },
    {
      "cell_type": "code",
      "source": [
        "history1 = fit(5, 0.001, model, train_loader, val_loader)"
      ],
      "metadata": {
        "colab": {
          "base_uri": "https://localhost:8080/"
        },
        "id": "1QUDYxe4mr3C",
        "outputId": "f7c6f624-c4aa-4811-bc7a-1571951c8e92"
      },
      "execution_count": 48,
      "outputs": [
        {
          "output_type": "stream",
          "name": "stdout",
          "text": [
            "Epoch [0], val_loss: 1.8798, val_acc: 0.6578\n",
            "Epoch [1], val_loss: 1.5794, val_acc: 0.7450\n",
            "Epoch [2], val_loss: 1.3692, val_acc: 0.7769\n",
            "Epoch [3], val_loss: 1.2184, val_acc: 0.7954\n",
            "Epoch [4], val_loss: 1.1066, val_acc: 0.8071\n"
          ]
        }
      ]
    },
    {
      "cell_type": "code",
      "source": [
        "history2 = fit(5, 0.001, model, train_loader, val_loader)"
      ],
      "metadata": {
        "colab": {
          "base_uri": "https://localhost:8080/"
        },
        "id": "xewJO_Vrmt58",
        "outputId": "95e3f438-1814-4c68-e54a-7cad2873260e"
      },
      "execution_count": 49,
      "outputs": [
        {
          "output_type": "stream",
          "name": "stdout",
          "text": [
            "Epoch [0], val_loss: 1.0211, val_acc: 0.8172\n",
            "Epoch [1], val_loss: 0.9537, val_acc: 0.8239\n",
            "Epoch [2], val_loss: 0.8993, val_acc: 0.8282\n",
            "Epoch [3], val_loss: 0.8543, val_acc: 0.8331\n",
            "Epoch [4], val_loss: 0.8167, val_acc: 0.8373\n"
          ]
        }
      ]
    },
    {
      "cell_type": "code",
      "source": [
        "history = [result0] + history1 + history2 \n",
        "accuracies = [result['val_acc'] for result in history]\n",
        "plt.plot(accuracies, '-x')\n",
        "plt.xlabel('epoch')\n",
        "plt.ylabel('accuracy')\n",
        "plt.title('Accuracy vs. No. of epochs');"
      ],
      "metadata": {
        "colab": {
          "base_uri": "https://localhost:8080/",
          "height": 295
        },
        "id": "8iNnBEhdmysu",
        "outputId": "64328ebd-31dd-45e6-8923-262cab70ba2d"
      },
      "execution_count": 50,
      "outputs": [
        {
          "output_type": "display_data",
          "data": {
            "text/plain": [
              "<Figure size 432x288 with 1 Axes>"
            ],
            "image/png": "[encoded data removed]"
          },
          "metadata": {
            "needs_background": "light"
          }
        }
      ]
    },
    {
      "cell_type": "code",
      "source": [
        "# Define test dataset\n",
        "test_dataset = MNIST(root='data/', \n",
        "                     train=False,\n",
        "                     transform=transforms.ToTensor())"
      ],
      "metadata": {
        "id": "xUsGP7Ysmz_d"
      },
      "execution_count": 51,
      "outputs": []
    },
    {
      "cell_type": "code",
      "source": [
        "img, label = test_dataset[0]\n",
        "plt.imshow(img[0], cmap='gray')\n",
        "print('Shape:', img.shape)\n",
        "print('Label:', label)"
      ],
      "metadata": {
        "colab": {
          "base_uri": "https://localhost:8080/",
          "height": 300
        },
        "id": "BfaTv1H-m3Vy",
        "outputId": "80c97c74-df0a-4bf4-f23d-499e80e16eff"
      },
      "execution_count": 52,
      "outputs": [
        {
          "output_type": "stream",
          "name": "stdout",
          "text": [
            "Shape: torch.Size([1, 28, 28])\n",
            "Label: 7\n"
          ]
        },
        {
          "output_type": "display_data",
          "data": {
            "text/plain": [
              "<Figure size 432x288 with 1 Axes>"
            ],
            "image/png": "[encoded data removed]"
          },
          "metadata": {
            "needs_background": "light"
          }
        }
      ]
    },
    {
      "cell_type": "code",
      "source": [
        "def predict_image(img, model):\n",
        "    xb = img.unsqueeze(0)\n",
        "    yb = model(xb)\n",
        "    _, preds = torch.max(yb, dim=1)\n",
        "    return preds[0].item()"
      ],
      "metadata": {
        "id": "YBOMtkwUm5Nf"
      },
      "execution_count": 53,
      "outputs": []
    },
    {
      "cell_type": "code",
      "source": [
        "img, label = test_dataset[0]\n",
        "plt.imshow(img[0], cmap='gray')\n",
        "print('Label:', label, ', Predicted:', predict_image(img, model))"
      ],
      "metadata": {
        "colab": {
          "base_uri": "https://localhost:8080/",
          "height": 282
        },
        "id": "PGJ2qtPXm7Ey",
        "outputId": "a91f8f04-f6a5-4814-b937-1d145aabee2e"
      },
      "execution_count": 54,
      "outputs": [
        {
          "output_type": "stream",
          "name": "stdout",
          "text": [
            "Label: 7 , Predicted: 7\n"
          ]
        },
        {
          "output_type": "display_data",
          "data": {
            "text/plain": [
              "<Figure size 432x288 with 1 Axes>"
            ],
            "image/png": "[encoded data removed]"
          },
          "metadata": {
            "needs_background": "light"
          }
        }
      ]
    },
    {
      "cell_type": "code",
      "source": [
        "img, label = test_dataset[10]\n",
        "plt.imshow(img[0], cmap='gray')\n",
        "print('Label:', label, ', Predicted:', predict_image(img, model))"
      ],
      "metadata": {
        "colab": {
          "base_uri": "https://localhost:8080/",
          "height": 282
        },
        "id": "DKzqTQXzm8fm",
        "outputId": "ecd935a1-94df-49d8-89ee-13b07698649e"
      },
      "execution_count": 55,
      "outputs": [
        {
          "output_type": "stream",
          "name": "stdout",
          "text": [
            "Label: 0 , Predicted: 0\n"
          ]
        },
        {
          "output_type": "display_data",
          "data": {
            "text/plain": [
              "<Figure size 432x288 with 1 Axes>"
            ],
            "image/png": "[encoded data removed]"
          },
          "metadata": {
            "needs_background": "light"
          }
        }
      ]
    },
    {
      "cell_type": "code",
      "source": [
        "test_loader = DataLoader(test_dataset, batch_size=256)\n",
        "result = evaluate(model, test_loader)\n",
        "result"
      ],
      "metadata": {
        "colab": {
          "base_uri": "https://localhost:8080/"
        },
        "id": "CrfMPlvUm-y6",
        "outputId": "5a2e748b-09a4-4625-a1a7-f472997b60ac"
      },
      "execution_count": 56,
      "outputs": [
        {
          "output_type": "execute_result",
          "data": {
            "text/plain": [
              "{'val_acc': 0.843554675579071, 'val_loss': 0.7877448797225952}"
            ]
          },
          "metadata": {},
          "execution_count": 56
        }
      ]
    },
    {
      "cell_type": "code",
      "source": [
        "torch.save(model.state_dict(), 'mnist-logistic.pth')"
      ],
      "metadata": {
        "id": "yg_pDww9nBHI"
      },
      "execution_count": 57,
      "outputs": []
    },
    {
      "cell_type": "code",
      "source": [
        "model.state_dict()"
      ],
      "metadata": {
        "colab": {
          "base_uri": "https://localhost:8080/"
        },
        "id": "0HMogpSpnDKv",
        "outputId": "a6a7de1d-1da9-43ee-a4bf-631e9166a089"
      },
      "execution_count": 58,
      "outputs": [
        {
          "output_type": "execute_result",
          "data": {
            "text/plain": [
              "OrderedDict([('linear.weight',\n",
              "              tensor([[-0.0213,  0.0096,  0.0325,  ...,  0.0048,  0.0138, -0.0265],\n",
              "                      [-0.0107, -0.0179,  0.0354,  ..., -0.0014, -0.0086, -0.0181],\n",
              "                      [ 0.0016, -0.0067,  0.0346,  ..., -0.0229, -0.0051, -0.0090],\n",
              "                      ...,\n",
              "                      [-0.0066, -0.0244,  0.0002,  ..., -0.0096,  0.0240,  0.0164],\n",
              "                      [ 0.0246, -0.0046, -0.0317,  ...,  0.0200, -0.0262,  0.0013],\n",
              "                      [ 0.0019,  0.0354, -0.0179,  ..., -0.0255,  0.0146,  0.0247]])),\n",
              "             ('linear.bias',\n",
              "              tensor([-0.0174,  0.0939,  0.0060, -0.0210,  0.0223,  0.0163, -0.0119,  0.0414,\n",
              "                      -0.0746, -0.0245]))])"
            ]
          },
          "metadata": {},
          "execution_count": 58
        }
      ]
    },
    {
      "cell_type": "code",
      "source": [
        "model2 = MnistModel()"
      ],
      "metadata": {
        "id": "WTOYrfJNnEti"
      },
      "execution_count": 59,
      "outputs": []
    },
    {
      "cell_type": "code",
      "source": [
        "model2.state_dict()"
      ],
      "metadata": {
        "colab": {
          "base_uri": "https://localhost:8080/"
        },
        "id": "mAJJX_qGnGeQ",
        "outputId": "eaed00df-39c9-4210-e2b5-47a568b9def7"
      },
      "execution_count": 60,
      "outputs": [
        {
          "output_type": "execute_result",
          "data": {
            "text/plain": [
              "OrderedDict([('linear.weight',\n",
              "              tensor([[ 0.0040, -0.0171, -0.0024,  ...,  0.0204,  0.0274,  0.0153],\n",
              "                      [ 0.0068, -0.0159,  0.0032,  ..., -0.0086,  0.0234,  0.0176],\n",
              "                      [ 0.0313,  0.0116, -0.0299,  ..., -0.0186,  0.0219, -0.0063],\n",
              "                      ...,\n",
              "                      [ 0.0342,  0.0209, -0.0240,  ...,  0.0040,  0.0059,  0.0231],\n",
              "                      [ 0.0140, -0.0283, -0.0087,  ...,  0.0168,  0.0352,  0.0231],\n",
              "                      [-0.0077, -0.0285, -0.0287,  ...,  0.0226,  0.0044,  0.0031]])),\n",
              "             ('linear.bias',\n",
              "              tensor([ 0.0213,  0.0233,  0.0049,  0.0179,  0.0005, -0.0249,  0.0090, -0.0248,\n",
              "                       0.0151,  0.0236]))])"
            ]
          },
          "metadata": {},
          "execution_count": 60
        }
      ]
    },
    {
      "cell_type": "code",
      "source": [
        "evaluate(model2, test_loader)"
      ],
      "metadata": {
        "colab": {
          "base_uri": "https://localhost:8080/"
        },
        "id": "nRwmXFHmnIDx",
        "outputId": "81957b21-47d5-40c5-ce57-34975d7d13e6"
      },
      "execution_count": 61,
      "outputs": [
        {
          "output_type": "execute_result",
          "data": {
            "text/plain": [
              "{'val_acc': 0.06894531100988388, 'val_loss': 2.347071409225464}"
            ]
          },
          "metadata": {},
          "execution_count": 61
        }
      ]
    },
    {
      "cell_type": "code",
      "source": [
        "model2.load_state_dict(torch.load('mnist-logistic.pth'))\n",
        "model2.state_dict()"
      ],
      "metadata": {
        "colab": {
          "base_uri": "https://localhost:8080/"
        },
        "id": "i1WVIRIfnJwZ",
        "outputId": "41a106fc-d4b1-4be5-da40-c13211a3a428"
      },
      "execution_count": 62,
      "outputs": [
        {
          "output_type": "execute_result",
          "data": {
            "text/plain": [
              "OrderedDict([('linear.weight',\n",
              "              tensor([[-0.0213,  0.0096,  0.0325,  ...,  0.0048,  0.0138, -0.0265],\n",
              "                      [-0.0107, -0.0179,  0.0354,  ..., -0.0014, -0.0086, -0.0181],\n",
              "                      [ 0.0016, -0.0067,  0.0346,  ..., -0.0229, -0.0051, -0.0090],\n",
              "                      ...,\n",
              "                      [-0.0066, -0.0244,  0.0002,  ..., -0.0096,  0.0240,  0.0164],\n",
              "                      [ 0.0246, -0.0046, -0.0317,  ...,  0.0200, -0.0262,  0.0013],\n",
              "                      [ 0.0019,  0.0354, -0.0179,  ..., -0.0255,  0.0146,  0.0247]])),\n",
              "             ('linear.bias',\n",
              "              tensor([-0.0174,  0.0939,  0.0060, -0.0210,  0.0223,  0.0163, -0.0119,  0.0414,\n",
              "                      -0.0746, -0.0245]))])"
            ]
          },
          "metadata": {},
          "execution_count": 62
        }
      ]
    },
    {
      "cell_type": "code",
      "source": [
        "test_loader = DataLoader(test_dataset, batch_size=256)\n",
        "result = evaluate(model2, test_loader)\n",
        "result"
      ],
      "metadata": {
        "colab": {
          "base_uri": "https://localhost:8080/"
        },
        "id": "rcAQUOrQnMlz",
        "outputId": "d50b13c7-4e57-4225-b3b0-b4a999272859"
      },
      "execution_count": 63,
      "outputs": [
        {
          "output_type": "execute_result",
          "data": {
            "text/plain": [
              "{'val_acc': 0.843554675579071, 'val_loss': 0.7877448797225952}"
            ]
          },
          "metadata": {},
          "execution_count": 63
        }
      ]
    },
    {
      "cell_type": "code",
      "source": [
        ""
      ],
      "metadata": {
        "id": "jnJmdFU4nOhU"
      },
      "execution_count": null,
      "outputs": []
    }
  ]
}